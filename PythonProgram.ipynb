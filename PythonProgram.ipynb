{
 "cells": [
  {
   "cell_type": "markdown",
   "metadata": {},
   "source": [
    "<b> FINDING GCD <b>"
   ]
  },
  {
   "cell_type": "code",
   "execution_count": 1,
   "metadata": {},
   "outputs": [
    {
     "name": "stdout",
     "output_type": "stream",
     "text": [
      "Enter First Number: 14\n",
      "Enter Second Number: 63\n",
      "Greated Common Factor of 14 and 63 is : 7\n"
     ]
    }
   ],
   "source": [
    "# finding gcd(m,n) greatest common divisior\n",
    "def gcd(m, n):\n",
    "    fact_m = []\n",
    "    for i in range(1, m+1):\n",
    "        if m%i == 0:\n",
    "            fact_m.append(i)\n",
    "    \n",
    "    fact_n = []\n",
    "    for j in range(1, n+1):\n",
    "        if n%j == 0:\n",
    "            fact_n.append(j)\n",
    "    \n",
    "    common_fact = []\n",
    "    for f in fact_m:\n",
    "        if f in fact_n:\n",
    "            common_fact.append(f)\n",
    "    \n",
    "    return common_fact[-1]\n",
    "\n",
    "x = input('Enter First Number: ')\n",
    "y = input('Enter Second Number: ')\n",
    "z = gcd(int(x), int(y))\n",
    "print(f'Greated Common Factor of {x} and {y} is : {z}')\n",
    "    "
   ]
  },
  {
   "cell_type": "code",
   "execution_count": 3,
   "metadata": {},
   "outputs": [
    {
     "name": "stdout",
     "output_type": "stream",
     "text": [
      "Enter First Number: 14\n",
      "Enter Second Number: 63\n",
      "Greated Common Factor of 14 and 63 is : 7\n"
     ]
    }
   ],
   "source": [
    "# more efficient way for gcd(m,n)\n",
    "def gcd(m, n):\n",
    "    common_fact = []\n",
    "    for i in range(1, min(m,n) + 1):\n",
    "        if m%i == 0 and n%i == 0:\n",
    "            common_fact.append(i)\n",
    "    return common_fact[-1]\n",
    "\n",
    "x = input('Enter First Number: ')\n",
    "y = input('Enter Second Number: ')\n",
    "z = gcd(int(x), int(y))\n",
    "print(f'Greated Common Factor of {x} and {y} is : {z}')"
   ]
  },
  {
   "cell_type": "code",
   "execution_count": 4,
   "metadata": {},
   "outputs": [
    {
     "name": "stdout",
     "output_type": "stream",
     "text": [
      "Enter First Number: 14\n",
      "Enter Second Number: 63\n",
      "Greated Common Factor of 14 and 63 is : 7\n"
     ]
    }
   ],
   "source": [
    "# more more efficient way for gcd(m,n)\n",
    "def gcd(m, n):\n",
    "    for i in range(1, min(m,n) + 1):\n",
    "        if m%i == 0 and n%i == 0:\n",
    "            mrcf = i\n",
    "    return mrcf\n",
    "\n",
    "x = input('Enter First Number: ')\n",
    "y = input('Enter Second Number: ')\n",
    "z = gcd(int(x), int(y))\n",
    "print(f'Greated Common Factor of {x} and {y} is : {z}')"
   ]
  },
  {
   "cell_type": "code",
   "execution_count": 6,
   "metadata": {},
   "outputs": [
    {
     "name": "stdout",
     "output_type": "stream",
     "text": [
      "Enter First Number: 14\n",
      "Enter Second Number: 63\n",
      "Greated Common Factor of 14 and 63 is : 7\n"
     ]
    }
   ],
   "source": [
    "# other way\n",
    "def gcd(m, n):\n",
    "    i = min(m, n)\n",
    "    while i > 0:\n",
    "        if m%i == 0 and n%i ==0:\n",
    "            return i\n",
    "        else:\n",
    "            i-=1\n",
    "            \n",
    "x = input('Enter First Number: ')\n",
    "y = input('Enter Second Number: ')\n",
    "z = gcd(int(x), int(y))\n",
    "print(f'Greated Common Factor of {x} and {y} is : {z}')"
   ]
  },
  {
   "cell_type": "code",
   "execution_count": null,
   "metadata": {},
   "outputs": [],
   "source": []
  }
 ],
 "metadata": {
  "kernelspec": {
   "display_name": "Python 3",
   "language": "python",
   "name": "python3"
  },
  "language_info": {
   "codemirror_mode": {
    "name": "ipython",
    "version": 3
   },
   "file_extension": ".py",
   "mimetype": "text/x-python",
   "name": "python",
   "nbconvert_exporter": "python",
   "pygments_lexer": "ipython3",
   "version": "3.7.1"
  }
 },
 "nbformat": 4,
 "nbformat_minor": 2
}
