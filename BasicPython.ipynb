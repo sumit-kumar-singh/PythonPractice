{
 "cells": [
  {
   "cell_type": "markdown",
   "metadata": {},
   "source": [
    "<b> PRINT FUNCTION <b>"
   ]
  },
  {
   "cell_type": "code",
   "execution_count": 15,
   "metadata": {},
   "outputs": [
    {
     "name": "stdout",
     "output_type": "stream",
     "text": [
      "Hello Python\n",
      "Hello Python\n",
      "Hello Python's\n",
      "Hello Python's\n"
     ]
    }
   ],
   "source": [
    "'''\n",
    "\n",
    "print() is inbulit function for printing\n",
    "\n",
    "'''\n",
    "# printing using single quotes\n",
    "print('Hello Python')\n",
    "# printing using double quotes\n",
    "print(\"Hello Python\")\n",
    "# using escape \\\n",
    "print('Hello Python\\'s')\n",
    "# escape not required when double qoutes is used\n",
    "print(\"Hello Python's\")"
   ]
  },
  {
   "cell_type": "markdown",
   "metadata": {},
   "source": [
    "<b>VARIABLES<b>"
   ]
  },
  {
   "cell_type": "code",
   "execution_count": 16,
   "metadata": {},
   "outputs": [
    {
     "name": "stdout",
     "output_type": "stream",
     "text": [
      "10 edureka\n"
     ]
    }
   ],
   "source": [
    "# printing after storing in variable\n",
    "a = 10\n",
    "b = 'edureka'\n",
    "print(a,b)"
   ]
  },
  {
   "cell_type": "code",
   "execution_count": 17,
   "metadata": {},
   "outputs": [
    {
     "name": "stdout",
     "output_type": "stream",
     "text": [
      "10 20 30\n",
      "40 50 60\n",
      "Hello World Python\n"
     ]
    }
   ],
   "source": [
    "# multiple line variable assignment\n",
    "x = 10\n",
    "y = 20\n",
    "z = 30\n",
    "print(x, y, z)\n",
    "\n",
    "# single line variable assignment\n",
    "x, y, z = 40, 50, 60\n",
    "a, b , c = 'Hello', 'World', 'Python'\n",
    "print(x, y, z)\n",
    "print(a, b , c)"
   ]
  },
  {
   "cell_type": "code",
   "execution_count": 21,
   "metadata": {},
   "outputs": [
    {
     "name": "stdout",
     "output_type": "stream",
     "text": [
      "10 20 30\n"
     ]
    }
   ],
   "source": [
    "'''\n",
    "\n",
    "Variables are nothing but reserved memory locations to stores values. This means when we create\n",
    "variables we reserve some space in memory.\n",
    "\n",
    "'''\n",
    "# rules for identifiers ( variable declartion)\n",
    "_x = 10   # valid\n",
    "__y = 20  # valid\n",
    "z21 = 30  # valid\n",
    "\n",
    "# 0a = 20   # invalid\n",
    "# @a = 10   # invalid\n",
    "# a@ = 40   # invalid\n",
    "\n",
    "print(_x, __y, z21)"
   ]
  },
  {
   "cell_type": "markdown",
   "metadata": {},
   "source": [
    "<b> DATA TYPES <b>"
   ]
  },
  {
   "cell_type": "code",
   "execution_count": 82,
   "metadata": {},
   "outputs": [],
   "source": [
    "'''\n",
    "\n",
    "                              Standard Data Types\n",
    "                   ___________________|__________________\n",
    "                  |                                      |\n",
    "    immutable(values can't be changed)        mutables(values can be changed)\n",
    "    |__ numbers(int, float, complex)          |__ lists\n",
    "    |__ strings                               |__ dictionaries\n",
    "    |__ tupples                               |__ sets\n",
    "    \n",
    "'''\n",
    "\n",
    "# classification of datatypes"
   ]
  },
  {
   "cell_type": "markdown",
   "metadata": {},
   "source": [
    "<b> INTEGERS <b>"
   ]
  },
  {
   "cell_type": "code",
   "execution_count": 78,
   "metadata": {},
   "outputs": [
    {
     "name": "stdout",
     "output_type": "stream",
     "text": [
      "10\n",
      "<class 'int'>\n"
     ]
    }
   ],
   "source": [
    "# int numbers\n",
    "a = 10\n",
    "b = 20\n",
    "c = b - a\n",
    "print(c)\n",
    "print(type(c))"
   ]
  },
  {
   "cell_type": "markdown",
   "metadata": {},
   "source": [
    "<b>  FLOATS <b>"
   ]
  },
  {
   "cell_type": "code",
   "execution_count": 92,
   "metadata": {
    "scrolled": true
   },
   "outputs": [
    {
     "name": "stdout",
     "output_type": "stream",
     "text": [
      "10.0\n",
      "<class 'float'>\n",
      "0.2999999999999998\n"
     ]
    }
   ],
   "source": [
    "# float numbers\n",
    "a = 10.00\n",
    "b = 20\n",
    "c = b - a\n",
    "print(c)\n",
    "print(type(c))"
   ]
  },
  {
   "cell_type": "code",
   "execution_count": 93,
   "metadata": {},
   "outputs": [
    {
     "name": "stdout",
     "output_type": "stream",
     "text": [
      "0.2999999999999998\n"
     ]
    }
   ],
   "source": [
    "# there is no presize way to store float\n",
    "# always losse accuracy\n",
    "x = 6\n",
    "y = 5.7\n",
    "z = x - y\n",
    "print(z)"
   ]
  },
  {
   "cell_type": "code",
   "execution_count": 97,
   "metadata": {},
   "outputs": [
    {
     "name": "stdout",
     "output_type": "stream",
     "text": [
      "0.3\n"
     ]
    }
   ],
   "source": [
    "# rounding it then substracting\n",
    "z = round(6-5.7,2)\n",
    "print(z)"
   ]
  },
  {
   "cell_type": "markdown",
   "metadata": {},
   "source": [
    "<b> COMPLEX NUMBER <b>"
   ]
  },
  {
   "cell_type": "code",
   "execution_count": 80,
   "metadata": {},
   "outputs": [
    {
     "name": "stdout",
     "output_type": "stream",
     "text": [
      "(5+2j)\n",
      "<class 'complex'>\n"
     ]
    }
   ],
   "source": [
    "# complex numbers\n",
    "a = 10 + 6j\n",
    "b = 5 + 4j\n",
    "c = a - b\n",
    "print(c)\n",
    "print(type(c))"
   ]
  },
  {
   "cell_type": "markdown",
   "metadata": {},
   "source": [
    "<b> ADDITION <b>"
   ]
  },
  {
   "cell_type": "code",
   "execution_count": 67,
   "metadata": {},
   "outputs": [
    {
     "name": "stdout",
     "output_type": "stream",
     "text": [
      "20\n"
     ]
    }
   ],
   "source": [
    "# addition arithmetic operations\n",
    "a = 10\n",
    "b = 10\n",
    "c = a + b\n",
    "print(c)"
   ]
  },
  {
   "cell_type": "markdown",
   "metadata": {},
   "source": [
    "<b> SUBSTRACTION <b>"
   ]
  },
  {
   "cell_type": "code",
   "execution_count": 69,
   "metadata": {},
   "outputs": [
    {
     "name": "stdout",
     "output_type": "stream",
     "text": [
      "10\n"
     ]
    }
   ],
   "source": [
    "# substraction arithmetic operations\n",
    "a = 20 \n",
    "b = 10\n",
    "c = a - b\n",
    "print(c)"
   ]
  },
  {
   "cell_type": "markdown",
   "metadata": {},
   "source": [
    "<b> MULTIPLICATION <b>"
   ]
  },
  {
   "cell_type": "code",
   "execution_count": 70,
   "metadata": {},
   "outputs": [
    {
     "name": "stdout",
     "output_type": "stream",
     "text": [
      "100\n"
     ]
    }
   ],
   "source": [
    "# multiplication arithmetic operations\n",
    "a = 10 \n",
    "b = 10\n",
    "c = a * b\n",
    "print(c)"
   ]
  },
  {
   "cell_type": "markdown",
   "metadata": {},
   "source": [
    "<b> DIVISION <b>"
   ]
  },
  {
   "cell_type": "code",
   "execution_count": 71,
   "metadata": {},
   "outputs": [
    {
     "name": "stdout",
     "output_type": "stream",
     "text": [
      "3.3333333333333335\n"
     ]
    }
   ],
   "source": [
    "# divison with remainder arithmetic operations\n",
    "a = 10 \n",
    "b = 3\n",
    "c = a / b\n",
    "print(c)"
   ]
  },
  {
   "cell_type": "code",
   "execution_count": 72,
   "metadata": {},
   "outputs": [
    {
     "name": "stdout",
     "output_type": "stream",
     "text": [
      "3\n"
     ]
    }
   ],
   "source": [
    "# floor divison arithmetic operations\n",
    "a = 10 \n",
    "b = 3\n",
    "c = a // b\n",
    "print(c)"
   ]
  },
  {
   "cell_type": "markdown",
   "metadata": {},
   "source": [
    "<b> EXPONENT <b>"
   ]
  },
  {
   "cell_type": "code",
   "execution_count": 73,
   "metadata": {},
   "outputs": [
    {
     "name": "stdout",
     "output_type": "stream",
     "text": [
      "8\n"
     ]
    }
   ],
   "source": [
    "# exponent arithmetic operations\n",
    "a = 2\n",
    "b = 3\n",
    "c = a ** 3\n",
    "print(c)"
   ]
  },
  {
   "cell_type": "markdown",
   "metadata": {},
   "source": [
    "<b> MODULUS <b>"
   ]
  },
  {
   "cell_type": "code",
   "execution_count": 74,
   "metadata": {},
   "outputs": [
    {
     "name": "stdout",
     "output_type": "stream",
     "text": [
      "1\n"
     ]
    }
   ],
   "source": [
    "# modulus arithmetic operations\n",
    "a = 10 \n",
    "b = 3\n",
    "c = a % b\n",
    "print(c)"
   ]
  },
  {
   "cell_type": "markdown",
   "metadata": {},
   "source": [
    "<b> ARITHMETIC OPERATIONS RULE<b>"
   ]
  },
  {
   "cell_type": "code",
   "execution_count": 86,
   "metadata": {
    "scrolled": true
   },
   "outputs": [
    {
     "name": "stdout",
     "output_type": "stream",
     "text": [
      "300\n"
     ]
    }
   ],
   "source": [
    "# follow BODMASS \n",
    "a = ((10 + 5) * 15) + 100 - 25\n",
    "print(a)"
   ]
  },
  {
   "cell_type": "markdown",
   "metadata": {},
   "source": [
    "<b> SHORT HAND<b>"
   ]
  },
  {
   "cell_type": "code",
   "execution_count": 75,
   "metadata": {},
   "outputs": [
    {
     "name": "stdout",
     "output_type": "stream",
     "text": [
      "10\n"
     ]
    }
   ],
   "source": [
    "# short hand arithmetic operations\n",
    "a = 5\n",
    "a *= 2\n",
    "print(a)"
   ]
  },
  {
   "cell_type": "markdown",
   "metadata": {},
   "source": [
    "<b> ABSOLUTE <b>"
   ]
  },
  {
   "cell_type": "code",
   "execution_count": 76,
   "metadata": {},
   "outputs": [
    {
     "name": "stdout",
     "output_type": "stream",
     "text": [
      "12\n"
     ]
    }
   ],
   "source": [
    "# absolute ( + value ) arithmetic operations\n",
    "a = -12\n",
    "print(abs(a))"
   ]
  },
  {
   "cell_type": "markdown",
   "metadata": {},
   "source": [
    "<b> ROUND OFF <b>"
   ]
  },
  {
   "cell_type": "code",
   "execution_count": 91,
   "metadata": {},
   "outputs": [
    {
     "name": "stdout",
     "output_type": "stream",
     "text": [
      "4\n",
      "3\n",
      "4.528\n"
     ]
    }
   ],
   "source": [
    "# round arithmetic operations\n",
    "a = 3.50\n",
    "b = 3.49\n",
    "c = 4.52762842\n",
    "print(round(a))\n",
    "print(round(b))\n",
    "\n",
    "# round to 3 decimal points\n",
    "print(round(c, 3))"
   ]
  },
  {
   "cell_type": "markdown",
   "metadata": {},
   "source": [
    "<b> EQUAL OPERATOR<b>"
   ]
  },
  {
   "cell_type": "code",
   "execution_count": 61,
   "metadata": {},
   "outputs": [
    {
     "name": "stdout",
     "output_type": "stream",
     "text": [
      "True\n"
     ]
    }
   ],
   "source": [
    "# equal comparision operators\n",
    "a = 10\n",
    "b = 10\n",
    "print(a == b)"
   ]
  },
  {
   "cell_type": "markdown",
   "metadata": {},
   "source": [
    "<b> NOT EQUAL <b>"
   ]
  },
  {
   "cell_type": "code",
   "execution_count": 62,
   "metadata": {},
   "outputs": [
    {
     "name": "stdout",
     "output_type": "stream",
     "text": [
      "False\n"
     ]
    }
   ],
   "source": [
    "# not equal comparision operators\n",
    "a = 10a\n",
    "b = 10\n",
    "print(a != b)"
   ]
  },
  {
   "cell_type": "markdown",
   "metadata": {},
   "source": [
    "<b> GREATER THAN <b>"
   ]
  },
  {
   "cell_type": "code",
   "execution_count": 63,
   "metadata": {},
   "outputs": [
    {
     "name": "stdout",
     "output_type": "stream",
     "text": [
      "True\n"
     ]
    }
   ],
   "source": [
    "# greater than comparision operators\n",
    "a = 20 \n",
    "b = 10\n",
    "print(a>b)"
   ]
  },
  {
   "cell_type": "markdown",
   "metadata": {},
   "source": [
    "<b> GREATER THAN EQUAL TO <b>"
   ]
  },
  {
   "cell_type": "code",
   "execution_count": 64,
   "metadata": {},
   "outputs": [
    {
     "name": "stdout",
     "output_type": "stream",
     "text": [
      "True\n"
     ]
    }
   ],
   "source": [
    "# greater than equal to comparision operators\n",
    "a = 20 \n",
    "b = 20\n",
    "print(a>=b)"
   ]
  },
  {
   "cell_type": "markdown",
   "metadata": {},
   "source": [
    "<b> LESS THAN <b>"
   ]
  },
  {
   "cell_type": "code",
   "execution_count": 65,
   "metadata": {},
   "outputs": [
    {
     "name": "stdout",
     "output_type": "stream",
     "text": [
      "False\n"
     ]
    }
   ],
   "source": [
    "# less than comparision operators\n",
    "a = 20 \n",
    "b = 10\n",
    "print(a<b)"
   ]
  },
  {
   "cell_type": "markdown",
   "metadata": {},
   "source": [
    "<b> LESS THAN EQUAL TO <b>"
   ]
  },
  {
   "cell_type": "code",
   "execution_count": 66,
   "metadata": {},
   "outputs": [
    {
     "name": "stdout",
     "output_type": "stream",
     "text": [
      "False\n"
     ]
    }
   ],
   "source": [
    "# less than equal to comparision operators\n",
    "a = 20 \n",
    "b = 10\n",
    "print(a<=b)"
   ]
  },
  {
   "cell_type": "markdown",
   "metadata": {},
   "source": [
    "<b> STRINGS <b>"
   ]
  },
  {
   "cell_type": "code",
   "execution_count": 89,
   "metadata": {},
   "outputs": [
    {
     "name": "stdout",
     "output_type": "stream",
     "text": [
      "100200\n",
      "300\n"
     ]
    }
   ],
   "source": [
    "# addition of two string\n",
    "a = '100'\n",
    "b = '200'\n",
    "c = a + b\n",
    "print(c)\n",
    "\n",
    "# conversion to int\n",
    "c = int(a) + int(b)\n",
    "print(c)"
   ]
  },
  {
   "cell_type": "code",
   "execution_count": 1,
   "metadata": {},
   "outputs": [
    {
     "name": "stdout",
     "output_type": "stream",
     "text": [
      "Learing Python\n"
     ]
    }
   ],
   "source": [
    "# string basic\n",
    "message = \"Learing Python\"\n",
    "print(message)"
   ]
  },
  {
   "cell_type": "markdown",
   "metadata": {},
   "source": [
    "<b> PARGRAPH PRINTING<b>"
   ]
  },
  {
   "cell_type": "code",
   "execution_count": 2,
   "metadata": {},
   "outputs": [
    {
     "name": "stdout",
     "output_type": "stream",
     "text": [
      "\n",
      "    I don't know the probability but\n",
      "    I am 95% sure that it lies in this interval.\n",
      "\n"
     ]
    }
   ],
   "source": [
    "# print same as written\n",
    "info = '''\n",
    "    I don't know the probability but\n",
    "    I am 95% sure that it lies in this interval.\n",
    "'''\n",
    "print(info)"
   ]
  },
  {
   "cell_type": "markdown",
   "metadata": {},
   "source": [
    "<b> LENGTH OF STRING <b>"
   ]
  },
  {
   "cell_type": "code",
   "execution_count": 3,
   "metadata": {},
   "outputs": [
    {
     "name": "stdout",
     "output_type": "stream",
     "text": [
      "6\n"
     ]
    }
   ],
   "source": [
    "# length of the string\n",
    "message = \"Python\"\n",
    "print(len(message))"
   ]
  },
  {
   "cell_type": "markdown",
   "metadata": {},
   "source": [
    "<b> INDEXING OF STRING <b>"
   ]
  },
  {
   "cell_type": "code",
   "execution_count": 5,
   "metadata": {},
   "outputs": [
    {
     "name": "stdout",
     "output_type": "stream",
     "text": [
      "H\n",
      "e\n",
      "d\n"
     ]
    }
   ],
   "source": [
    "# indexing of string\n",
    "message = \"HelloWorld\"\n",
    "# character at 0th position\n",
    "print(message[0])\n",
    "\n",
    "# character at 1st position\n",
    "print(message[1])\n",
    "\n",
    "# character at last position\n",
    "print(message[-1])\n",
    "\n",
    "# if we index out of range then it will give error\n",
    "# print(message[10])"
   ]
  },
  {
   "cell_type": "markdown",
   "metadata": {},
   "source": [
    "<b> SLICING OF STRING <b>"
   ]
  },
  {
   "cell_type": "code",
   "execution_count": 11,
   "metadata": {},
   "outputs": [
    {
     "name": "stdout",
     "output_type": "stream",
     "text": [
      "Hello\n",
      "Hello\n",
      "World\n",
      "World\n",
      "dlroWolleH\n"
     ]
    }
   ],
   "source": [
    "# slicing of string\n",
    "message = \"HelloWorld\"\n",
    "# [0:5] 0 is inclusive but 5 is exclusive\n",
    "print(message[0:5])\n",
    "print(message[:5])\n",
    "print(message[5:15])\n",
    "print(message[5:])\n",
    "# reverse \n",
    "print(message[::-1])"
   ]
  },
  {
   "cell_type": "markdown",
   "metadata": {},
   "source": [
    "<b> LOWER AND UPPER CASE <b>"
   ]
  },
  {
   "cell_type": "code",
   "execution_count": 43,
   "metadata": {},
   "outputs": [
    {
     "name": "stdout",
     "output_type": "stream",
     "text": [
      "hello, sumit. welcome!\n",
      "HELLO, SUMIT. WELCOME!\n",
      "Hello, SUMIT. Welcome!\n"
     ]
    }
   ],
   "source": [
    "# lower case\n",
    "print(message.lower())\n",
    "\n",
    "# upper case\n",
    "print(message.upper())\n",
    "\n",
    "# make copy of string, original string is not changed\n",
    "print(message)"
   ]
  },
  {
   "cell_type": "markdown",
   "metadata": {},
   "source": [
    "<b> COUNT OF WORDS <b>"
   ]
  },
  {
   "cell_type": "code",
   "execution_count": 22,
   "metadata": {},
   "outputs": [
    {
     "name": "stdout",
     "output_type": "stream",
     "text": [
      "1\n",
      "0\n"
     ]
    }
   ],
   "source": [
    "# count the occuarance\n",
    "print(message.count('Hello'))\n",
    "\n",
    "# if no occurance found then 0\n",
    "print(message.count('Python'))"
   ]
  },
  {
   "cell_type": "markdown",
   "metadata": {},
   "source": [
    "<b> FINDING WORDS <b>"
   ]
  },
  {
   "cell_type": "code",
   "execution_count": 23,
   "metadata": {},
   "outputs": [
    {
     "name": "stdout",
     "output_type": "stream",
     "text": [
      "2\n",
      "5\n",
      "-1\n"
     ]
    }
   ],
   "source": [
    "# find the index of first occurance\n",
    "print(message.find('l'))\n",
    "print(message.find('World')) # 'w' is at 5th index\n",
    "\n",
    "# if not found then -1\n",
    "print(message.find('Sumit'))"
   ]
  },
  {
   "cell_type": "code",
   "execution_count": 25,
   "metadata": {},
   "outputs": [
    {
     "name": "stdout",
     "output_type": "stream",
     "text": [
      "HelloPython\n"
     ]
    }
   ],
   "source": [
    "# replace the word\n",
    "print(message.replace('World', 'Python'))"
   ]
  },
  {
   "cell_type": "markdown",
   "metadata": {},
   "source": [
    "<b> CONCATENATING AND FORMATTING<b>"
   ]
  },
  {
   "cell_type": "code",
   "execution_count": 41,
   "metadata": {},
   "outputs": [
    {
     "name": "stdout",
     "output_type": "stream",
     "text": [
      "Hello, Sumit. Welcome!\n",
      "Hello, Sumit. Welcome!\n",
      "Hello, SUMIT. Welcome!\n"
     ]
    }
   ],
   "source": [
    "# concatenation using + operator\n",
    "name = \"Sumit\"\n",
    "greeting = \"Hello\"\n",
    "print(greeting + \", \" + name + \". Welcome!\")\n",
    "\n",
    "# formating\n",
    "message = '{}, {}. Welcome!'.format(greeting, name)\n",
    "print(message)\n",
    "\n",
    "# other way\n",
    "message = f'{greeting}, {name.upper()}. Welcome!'\n",
    "print(message)"
   ]
  },
  {
   "cell_type": "markdown",
   "metadata": {},
   "source": [
    "<b> STRINGS ARE IMMUTABLE<b>"
   ]
  },
  {
   "cell_type": "code",
   "execution_count": 44,
   "metadata": {},
   "outputs": [
    {
     "ename": "TypeError",
     "evalue": "'str' object does not support item assignment",
     "output_type": "error",
     "traceback": [
      "\u001b[1;31m---------------------------------------------------------------------------\u001b[0m",
      "\u001b[1;31mTypeError\u001b[0m                                 Traceback (most recent call last)",
      "\u001b[1;32m<ipython-input-44-fee966044e72>\u001b[0m in \u001b[0;36m<module>\u001b[1;34m\u001b[0m\n\u001b[0;32m      1\u001b[0m \u001b[1;31m# strings are immutable\u001b[0m\u001b[1;33m\u001b[0m\u001b[1;33m\u001b[0m\u001b[1;33m\u001b[0m\u001b[0m\n\u001b[0;32m      2\u001b[0m \u001b[0mmessage\u001b[0m \u001b[1;33m=\u001b[0m \u001b[1;34m\"Python\"\u001b[0m\u001b[1;33m\u001b[0m\u001b[1;33m\u001b[0m\u001b[0m\n\u001b[1;32m----> 3\u001b[1;33m \u001b[0mnew_msg\u001b[0m \u001b[1;33m=\u001b[0m \u001b[0mmessage\u001b[0m\u001b[1;33m[\u001b[0m\u001b[1;36m0\u001b[0m\u001b[1;33m]\u001b[0m \u001b[1;33m=\u001b[0m \u001b[1;34m'J'\u001b[0m\u001b[1;33m\u001b[0m\u001b[1;33m\u001b[0m\u001b[0m\n\u001b[0m\u001b[0;32m      4\u001b[0m \u001b[0mprint\u001b[0m\u001b[1;33m(\u001b[0m\u001b[0mnew_msg\u001b[0m\u001b[1;33m)\u001b[0m\u001b[1;33m\u001b[0m\u001b[1;33m\u001b[0m\u001b[0m\n",
      "\u001b[1;31mTypeError\u001b[0m: 'str' object does not support item assignment"
     ]
    }
   ],
   "source": [
    "# strings are immutable\n",
    "message = \"Python\"\n",
    "new_msg = message[0] = 'J'\n",
    "print(new_msg)\n",
    "\n",
    "# error strings are immutable"
   ]
  },
  {
   "cell_type": "code",
   "execution_count": 146,
   "metadata": {},
   "outputs": [
    {
     "name": "stdout",
     "output_type": "stream",
     "text": [
      "a\n",
      "b\n",
      "c\n",
      "d\n",
      "e\n",
      "f\n",
      "g\n",
      "h\n"
     ]
    }
   ],
   "source": [
    "# looping in string\n",
    "letter = 'abcdefgh'\n",
    "for l in letter:\n",
    "    print(l)"
   ]
  },
  {
   "cell_type": "markdown",
   "metadata": {},
   "source": [
    "<b> LISTS [ ] <b>"
   ]
  },
  {
   "cell_type": "code",
   "execution_count": 2,
   "metadata": {},
   "outputs": [
    {
     "name": "stdout",
     "output_type": "stream",
     "text": [
      "['Maths', 'Programming', 'History', 'Chemistry', 'Physics']\n"
     ]
    }
   ],
   "source": [
    "# lists: mutable, ordered, duplicacy allowed\n",
    "courses = ['Maths', 'Programming', 'History', 'Chemistry', 'Physics']\n",
    "print(courses)"
   ]
  },
  {
   "cell_type": "markdown",
   "metadata": {},
   "source": [
    "<b> LENGHT OF LIST <b>"
   ]
  },
  {
   "cell_type": "code",
   "execution_count": 3,
   "metadata": {},
   "outputs": [
    {
     "name": "stdout",
     "output_type": "stream",
     "text": [
      "5\n"
     ]
    }
   ],
   "source": [
    "# length of list\n",
    "print(len(courses))"
   ]
  },
  {
   "cell_type": "markdown",
   "metadata": {},
   "source": [
    "<b> CREATING LIST WITH RANGE <b>"
   ]
  },
  {
   "cell_type": "code",
   "execution_count": 8,
   "metadata": {},
   "outputs": [
    {
     "name": "stdout",
     "output_type": "stream",
     "text": [
      "range(0, 5)\n",
      "0\n",
      "1\n",
      "2\n",
      "3\n",
      "4\n"
     ]
    }
   ],
   "source": [
    "range_list = range(5)\n",
    "print(range_list)\n",
    "for item in range_list:\n",
    "    print(item)"
   ]
  },
  {
   "cell_type": "markdown",
   "metadata": {},
   "source": [
    "<b> INDEXING IN LIST <b>"
   ]
  },
  {
   "cell_type": "code",
   "execution_count": 4,
   "metadata": {},
   "outputs": [
    {
     "name": "stdout",
     "output_type": "stream",
     "text": [
      "Maths\n",
      "Physics\n"
     ]
    }
   ],
   "source": [
    "# indexing in list\n",
    "\n",
    "# element at 0th position\n",
    "print(courses[0])\n",
    "\n",
    "# last element\n",
    "print(courses[-1])\n",
    "\n",
    "# error if index is out of range\n",
    "# print(courses[10])"
   ]
  },
  {
   "cell_type": "markdown",
   "metadata": {},
   "source": [
    "<b> SLICING IN LIST <b>"
   ]
  },
  {
   "cell_type": "code",
   "execution_count": 5,
   "metadata": {},
   "outputs": [
    {
     "name": "stdout",
     "output_type": "stream",
     "text": [
      "['Maths', 'Programming']\n",
      "['Maths', 'Programming']\n",
      "['History', 'Chemistry', 'Physics']\n",
      "['History', 'Chemistry', 'Physics']\n"
     ]
    }
   ],
   "source": [
    "# slicing in list\n",
    "print(courses[0:2])\n",
    "print(courses[:2])\n",
    "print(courses[2:5])\n",
    "print(courses[2:])"
   ]
  },
  {
   "cell_type": "markdown",
   "metadata": {},
   "source": [
    "<b> APPEND IN LIST <b>"
   ]
  },
  {
   "cell_type": "code",
   "execution_count": 6,
   "metadata": {
    "scrolled": true
   },
   "outputs": [
    {
     "name": "stdout",
     "output_type": "stream",
     "text": [
      "['Maths', 'Programming', 'History', 'Chemistry', 'Physics', 'Art']\n"
     ]
    }
   ],
   "source": [
    "# append at last index\n",
    "courses.append('Art')\n",
    "print(courses)"
   ]
  },
  {
   "cell_type": "markdown",
   "metadata": {},
   "source": [
    "<b> INSERTING IN LIST<b>"
   ]
  },
  {
   "cell_type": "code",
   "execution_count": 7,
   "metadata": {},
   "outputs": [
    {
     "name": "stdout",
     "output_type": "stream",
     "text": [
      "['Statistics', 'Maths', 'Programming', 'History', 'Chemistry', 'Physics', 'Art']\n"
     ]
    }
   ],
   "source": [
    "# inserting at particular index\n",
    "courses.insert(0, 'Statistics')\n",
    "print(courses)\n",
    "\n",
    "# made changes in the original list"
   ]
  },
  {
   "cell_type": "markdown",
   "metadata": {},
   "source": [
    "<b> ADDING TWO LIST<b>"
   ]
  },
  {
   "cell_type": "code",
   "execution_count": 8,
   "metadata": {},
   "outputs": [
    {
     "name": "stdout",
     "output_type": "stream",
     "text": [
      "[['Chemistry', 'Art'], 'Maths', 'History']\n",
      "['Chemistry', 'Art']\n"
     ]
    }
   ],
   "source": [
    "# adding two list insert \n",
    "course_1 = ['Maths', 'History']\n",
    "course_2 = ['Chemistry', 'Art']\n",
    "course_1.insert(0, course_2)\n",
    "print(course_1)\n",
    "\n",
    "# list at 0th position\n",
    "print(course_1[0])\n",
    "\n",
    "# nested list can be constructed"
   ]
  },
  {
   "cell_type": "markdown",
   "metadata": {},
   "source": [
    "<b> EXTENDING LIST <b>"
   ]
  },
  {
   "cell_type": "code",
   "execution_count": 9,
   "metadata": {},
   "outputs": [
    {
     "name": "stdout",
     "output_type": "stream",
     "text": [
      "['Maths', 'History', 'Chemistry', 'Art']\n",
      "Chemistry\n"
     ]
    }
   ],
   "source": [
    "# adding two list extend ( last position )\n",
    "course_1 = ['Maths', 'History']\n",
    "course_2 = ['Chemistry', 'Art']\n",
    "course_1.extend(course_2)\n",
    "print(course_1)\n",
    "\n",
    "# element at 0th position not list\n",
    "print(course_1[2])\n",
    "\n",
    "# nested list can be constructed"
   ]
  },
  {
   "cell_type": "markdown",
   "metadata": {},
   "source": [
    "<b> REMOVE FROM LIST <b>"
   ]
  },
  {
   "cell_type": "code",
   "execution_count": 10,
   "metadata": {},
   "outputs": [
    {
     "name": "stdout",
     "output_type": "stream",
     "text": [
      "['Statistics', 'Programming', 'History', 'Chemistry', 'Physics', 'Art']\n"
     ]
    }
   ],
   "source": [
    "# removing particular element\n",
    "courses.remove('Maths')\n",
    "print(courses)\n",
    "\n",
    "# element 'Maths' has been removed from the original list"
   ]
  },
  {
   "cell_type": "markdown",
   "metadata": {},
   "source": [
    "<b> LISTS ARE MUTABLE <b>"
   ]
  },
  {
   "cell_type": "code",
   "execution_count": 11,
   "metadata": {},
   "outputs": [
    {
     "name": "stdout",
     "output_type": "stream",
     "text": [
      "['Maths', 'Programming', 'History', 'Chemistry', 'Physics', 'Art']\n"
     ]
    }
   ],
   "source": [
    "# list is mutable\n",
    "courses[0] = \"Maths\"\n",
    "print(courses)\n",
    "\n",
    "# 0th elements 'Statistics' manupulated to 'Maths'"
   ]
  },
  {
   "cell_type": "markdown",
   "metadata": {},
   "source": [
    "<b> POP IN LIST <b>"
   ]
  },
  {
   "cell_type": "code",
   "execution_count": 12,
   "metadata": {},
   "outputs": [
    {
     "name": "stdout",
     "output_type": "stream",
     "text": [
      "Art\n",
      "['Maths', 'Programming', 'History', 'Chemistry', 'Physics']\n"
     ]
    }
   ],
   "source": [
    "# pop in list\n",
    "print(courses.pop())\n",
    "# last element is removed\n",
    "print(courses)"
   ]
  },
  {
   "cell_type": "markdown",
   "metadata": {},
   "source": [
    "<b> REVERSING LIST <b>"
   ]
  },
  {
   "cell_type": "code",
   "execution_count": 13,
   "metadata": {},
   "outputs": [
    {
     "name": "stdout",
     "output_type": "stream",
     "text": [
      "['Maths', 'Programming', 'History', 'Chemistry', 'Physics']\n",
      "['Physics', 'Chemistry', 'History', 'Programming', 'Maths']\n"
     ]
    }
   ],
   "source": [
    "# reversing the list\n",
    "print(courses)\n",
    "courses.reverse()\n",
    "print(courses)"
   ]
  },
  {
   "cell_type": "markdown",
   "metadata": {},
   "source": [
    "<b> SORTING LIST<b>"
   ]
  },
  {
   "cell_type": "code",
   "execution_count": 14,
   "metadata": {},
   "outputs": [
    {
     "name": "stdout",
     "output_type": "stream",
     "text": [
      "['Physics', 'Chemistry', 'History', 'Programming', 'Maths']\n",
      "['Chemistry', 'History', 'Maths', 'Physics', 'Programming']\n"
     ]
    }
   ],
   "source": [
    "# sorting the list\n",
    "print(courses)\n",
    "courses.sort()\n",
    "print(courses)"
   ]
  },
  {
   "cell_type": "markdown",
   "metadata": {},
   "source": [
    "<b> GETTING INDEX <b>"
   ]
  },
  {
   "cell_type": "code",
   "execution_count": 16,
   "metadata": {},
   "outputs": [
    {
     "name": "stdout",
     "output_type": "stream",
     "text": [
      "['Chemistry', 'History', 'Maths', 'Physics', 'Programming']\n",
      "2\n"
     ]
    }
   ],
   "source": [
    "# getting index of element in list\n",
    "print(courses)\n",
    "# Maths is at 2nd index\n",
    "print(courses.index('Maths'))"
   ]
  },
  {
   "cell_type": "markdown",
   "metadata": {},
   "source": [
    "<b> IS ITEM 'IN' LIST <b>"
   ]
  },
  {
   "cell_type": "code",
   "execution_count": 17,
   "metadata": {},
   "outputs": [
    {
     "name": "stdout",
     "output_type": "stream",
     "text": [
      "True\n",
      "False\n"
     ]
    }
   ],
   "source": [
    "# is element in list?\n",
    "print('Maths' in courses)\n",
    "print('Arts' in courses)"
   ]
  },
  {
   "cell_type": "markdown",
   "metadata": {},
   "source": [
    "<b> ITERATING BY FOR LOOP<b>"
   ]
  },
  {
   "cell_type": "code",
   "execution_count": 20,
   "metadata": {},
   "outputs": [
    {
     "name": "stdout",
     "output_type": "stream",
     "text": [
      "Chemistry\n",
      "History\n",
      "Maths\n",
      "Physics\n",
      "Programming\n"
     ]
    }
   ],
   "source": [
    "# iterating through list items\n",
    "for course in courses:\n",
    "    print(course)\n",
    "# here for each loop consecutive element of courses get assign to items var and print it."
   ]
  },
  {
   "cell_type": "markdown",
   "metadata": {},
   "source": [
    "<b> ENUMERATE IN FOR LOOP<b>"
   ]
  },
  {
   "cell_type": "code",
   "execution_count": 27,
   "metadata": {},
   "outputs": [
    {
     "name": "stdout",
     "output_type": "stream",
     "text": [
      "0 Chemistry\n",
      "1 History\n",
      "2 Maths\n",
      "3 Physics\n",
      "4 Programming\n"
     ]
    }
   ],
   "source": [
    "# using emnumerate function to get element with index value also\n",
    "for index, course in enumerate(courses):\n",
    "    print(index, course)"
   ]
  },
  {
   "cell_type": "code",
   "execution_count": 26,
   "metadata": {},
   "outputs": [
    {
     "name": "stdout",
     "output_type": "stream",
     "text": [
      "1 Chemistry\n",
      "2 History\n",
      "3 Maths\n",
      "4 Physics\n",
      "5 Programming\n"
     ]
    }
   ],
   "source": [
    "# starting from particular index\n",
    "for index, course in enumerate(courses, start=1):\n",
    "    print(index, course)"
   ]
  },
  {
   "cell_type": "markdown",
   "metadata": {},
   "source": [
    "<b> LIST TO STRING CONVERSION<b>"
   ]
  },
  {
   "cell_type": "code",
   "execution_count": 29,
   "metadata": {},
   "outputs": [
    {
     "name": "stdout",
     "output_type": "stream",
     "text": [
      "Chemistry - History - Maths - Physics - Programming\n",
      "C\n"
     ]
    }
   ],
   "source": [
    "# converting list into string\n",
    "str_courses = ' - '.join(courses)\n",
    "# prints list in hyphen separtated string value\n",
    "print(str_courses)\n",
    "# convert into a single string\n",
    "print(str_courses[0])"
   ]
  },
  {
   "cell_type": "markdown",
   "metadata": {},
   "source": [
    "<b> STRING TO LIST CONVERSION<b>"
   ]
  },
  {
   "cell_type": "code",
   "execution_count": 31,
   "metadata": {},
   "outputs": [
    {
     "name": "stdout",
     "output_type": "stream",
     "text": [
      "Chemistry - History - Maths - Physics - Programming\n",
      "['Chemistry', 'History', 'Maths', 'Physics', 'Programming']\n"
     ]
    }
   ],
   "source": [
    "# converting string to list\n",
    "print(str_courses)\n",
    "# spliting string on ' - ' basis\n",
    "new_list = str_courses.split(' - ')\n",
    "print(new_list)"
   ]
  },
  {
   "cell_type": "code",
   "execution_count": 36,
   "metadata": {},
   "outputs": [
    {
     "name": "stdout",
     "output_type": "stream",
     "text": [
      "['Maths', 'Science']\n",
      "['Maths', 'Science']\n",
      "['Arts', 'Physics']\n",
      "['Arts', 'Physics']\n"
     ]
    }
   ],
   "source": [
    "# mutability of list\n",
    "courses_1 = ['Maths', 'Science']\n",
    "courses_2 = courses_1\n",
    "print(courses_1)\n",
    "print(courses_2)\n",
    "\n",
    "courses_1[0] = 'Arts'\n",
    "courses_1[1] = 'Physics'\n",
    "print(courses_1)\n",
    "# second list also gets changed as its pointing to same reference object.\n",
    "print(courses_2)"
   ]
  },
  {
   "cell_type": "markdown",
   "metadata": {},
   "source": [
    "<b> TUPLE<b>"
   ]
  },
  {
   "cell_type": "code",
   "execution_count": 40,
   "metadata": {},
   "outputs": [
    {
     "name": "stdout",
     "output_type": "stream",
     "text": [
      "('History', 'Maths', 'Arts', 'Maths')\n"
     ]
    }
   ],
   "source": [
    "# tuples: immutable, ordered, duplicacy allowed\n",
    "tuple_1 = ('History', 'Maths', 'Arts', 'Maths')\n",
    "print(tuple_1)\n",
    "\n",
    "# tuple_1[0] = 'Hindi' , error tuples are immutable"
   ]
  },
  {
   "cell_type": "markdown",
   "metadata": {},
   "source": [
    "<b> INDEXING IN TUPLE<b>"
   ]
  },
  {
   "cell_type": "code",
   "execution_count": 38,
   "metadata": {},
   "outputs": [
    {
     "name": "stdout",
     "output_type": "stream",
     "text": [
      "History\n"
     ]
    }
   ],
   "source": [
    "# indexing tuple\n",
    "print(tuple_1[0])"
   ]
  },
  {
   "cell_type": "markdown",
   "metadata": {},
   "source": [
    "<b> SLICING IN TUPLE<b>"
   ]
  },
  {
   "cell_type": "code",
   "execution_count": 39,
   "metadata": {},
   "outputs": [
    {
     "name": "stdout",
     "output_type": "stream",
     "text": [
      "('History', 'Maths')\n"
     ]
    }
   ],
   "source": [
    "# slicing tuple\n",
    "print(tupple_1[0:2])"
   ]
  },
  {
   "cell_type": "markdown",
   "metadata": {},
   "source": [
    "<b> SETS <b>"
   ]
  },
  {
   "cell_type": "code",
   "execution_count": 45,
   "metadata": {},
   "outputs": [
    {
     "name": "stdout",
     "output_type": "stream",
     "text": [
      "{'History', 'Maths', 'Hindi', 'English'}\n"
     ]
    }
   ],
   "source": [
    "# sets: mutable, unordered and no duplicates\n",
    "sets_1 = {'Hindi', 'Hindi', 'English', 'Maths', 'History'}\n",
    "# no order, no duplicate\n",
    "print(sets_1)\n",
    "\n",
    "# slicing and indexing is not allowed as it is un ordered (index not fixed)"
   ]
  },
  {
   "cell_type": "markdown",
   "metadata": {},
   "source": [
    "<b> ITEMS 'IN' SET <b>"
   ]
  },
  {
   "cell_type": "code",
   "execution_count": 46,
   "metadata": {
    "scrolled": true
   },
   "outputs": [
    {
     "name": "stdout",
     "output_type": "stream",
     "text": [
      "True\n"
     ]
    }
   ],
   "source": [
    "# efficient than list and tupple\n",
    "print('Maths' in sets_1)"
   ]
  },
  {
   "cell_type": "markdown",
   "metadata": {},
   "source": [
    "<b> INTERSECTION, DIFFERENCE AND UNION IN SET<b>"
   ]
  },
  {
   "cell_type": "code",
   "execution_count": 49,
   "metadata": {},
   "outputs": [
    {
     "name": "stdout",
     "output_type": "stream",
     "text": [
      "{'English'}\n",
      "{'Database', 'Networking'}\n",
      "{'History', 'Database', 'Hindi', 'English', 'Networking'}\n"
     ]
    }
   ],
   "source": [
    "# intersection, difference, union in set\n",
    "cs_courses = {'Networking', 'Database', 'English'}\n",
    "art_courses = {'Hindi', 'History', 'English'}\n",
    "\n",
    "# prints the common elements from both set\n",
    "print(cs_courses.intersection(art_courses))\n",
    "\n",
    "# prints non-common elements from both set\n",
    "print(cs_courses.difference(art_courses))\n",
    "\n",
    "# prints all elements from both set\n",
    "print(cs_courses.union(art_courses))"
   ]
  },
  {
   "cell_type": "markdown",
   "metadata": {},
   "source": [
    "<b> CREATING EMPTY LIST<b>"
   ]
  },
  {
   "cell_type": "code",
   "execution_count": 52,
   "metadata": {},
   "outputs": [
    {
     "name": "stdout",
     "output_type": "stream",
     "text": [
      "[]\n",
      "[]\n"
     ]
    }
   ],
   "source": [
    "# creating empty list\n",
    "list_empty1 = []\n",
    "list_empty2 = list()\n",
    "print(list_empty1)\n",
    "print(list_empty2)"
   ]
  },
  {
   "cell_type": "markdown",
   "metadata": {},
   "source": [
    "<b> CREATING EMPTY TUPLE<b>"
   ]
  },
  {
   "cell_type": "code",
   "execution_count": 53,
   "metadata": {},
   "outputs": [
    {
     "name": "stdout",
     "output_type": "stream",
     "text": [
      "{}\n",
      "()\n"
     ]
    }
   ],
   "source": [
    "# creating empty tuple\n",
    "tuple_empty1 = {}\n",
    "tuple_empty2 = tuple()\n",
    "print(tuple_empty1)\n",
    "print(tuple_empty2)"
   ]
  },
  {
   "cell_type": "markdown",
   "metadata": {},
   "source": [
    "<b> CREATING EMPTY SET<b>"
   ]
  },
  {
   "cell_type": "code",
   "execution_count": 54,
   "metadata": {},
   "outputs": [
    {
     "name": "stdout",
     "output_type": "stream",
     "text": [
      "()\n",
      "set()\n"
     ]
    }
   ],
   "source": [
    "# creating empty set\n",
    "set_empty1 = ()\n",
    "set_empty2 = set()\n",
    "print(set_empty1)\n",
    "print(set_empty2)"
   ]
  },
  {
   "cell_type": "markdown",
   "metadata": {},
   "source": [
    "<b> DICTONARY <b>"
   ]
  },
  {
   "cell_type": "code",
   "execution_count": 55,
   "metadata": {},
   "outputs": [
    {
     "name": "stdout",
     "output_type": "stream",
     "text": [
      "{'Name': 'Sumit', 'Age': 23, 'Courses': ['Maths', 'Python']}\n"
     ]
    }
   ],
   "source": [
    "# dictionaries: key-values pair\n",
    "student = {'Name':'Sumit', 'Age':23, 'Courses':['Maths', 'Python']}\n",
    "print(student)"
   ]
  },
  {
   "cell_type": "markdown",
   "metadata": {},
   "source": [
    "<b> GETTING VALUES USING KEY<b>"
   ]
  },
  {
   "cell_type": "code",
   "execution_count": 57,
   "metadata": {},
   "outputs": [
    {
     "name": "stdout",
     "output_type": "stream",
     "text": [
      "23\n",
      "['Maths', 'Python']\n"
     ]
    }
   ],
   "source": [
    "# getting value using key\n",
    "print(student['Age'])\n",
    "print(student['Courses'])"
   ]
  },
  {
   "cell_type": "code",
   "execution_count": 63,
   "metadata": {},
   "outputs": [
    {
     "name": "stdout",
     "output_type": "stream",
     "text": [
      "Sumit\n",
      "Not Found\n"
     ]
    }
   ],
   "source": [
    "# getting value if key\n",
    "print(student.get('Name', 'Not Found'))\n",
    "# if key is not in dict then return none\n",
    "print(student.get('Phone', 'Not Found'))"
   ]
  },
  {
   "cell_type": "markdown",
   "metadata": {},
   "source": [
    "<b> ADDING ITEMS IN DICT<b>"
   ]
  },
  {
   "cell_type": "code",
   "execution_count": 66,
   "metadata": {},
   "outputs": [
    {
     "name": "stdout",
     "output_type": "stream",
     "text": [
      "{'Name': 'Sumit', 'Age': 23, 'Courses': ['Maths', 'Python'], 'Phone': 8287007303}\n"
     ]
    }
   ],
   "source": [
    "# adding elements in dict at last index\n",
    "student['Phone'] = 8287007303\n",
    "print(student)\n",
    "# indexing and slicing not applicable as dict has key-value pair"
   ]
  },
  {
   "cell_type": "markdown",
   "metadata": {},
   "source": [
    "<b> CHNAGING VALUE USING KEY<b>"
   ]
  },
  {
   "cell_type": "code",
   "execution_count": 67,
   "metadata": {},
   "outputs": [
    {
     "name": "stdout",
     "output_type": "stream",
     "text": [
      "{'Name': 'Jhon', 'Age': 23, 'Courses': ['Maths', 'Python'], 'Phone': 8287007303}\n"
     ]
    }
   ],
   "source": [
    "# changing value of key in dict\n",
    "student['Name'] = 'Jhon'\n",
    "print(student)"
   ]
  },
  {
   "cell_type": "markdown",
   "metadata": {},
   "source": [
    "<b> UPDATING ENTIRE DICT<b>"
   ]
  },
  {
   "cell_type": "code",
   "execution_count": 70,
   "metadata": {},
   "outputs": [
    {
     "name": "stdout",
     "output_type": "stream",
     "text": [
      "{'Name': 'Mark', 'Age': 40, 'Courses': ['French', 'Spanish'], 'Phone': 555544442166}\n"
     ]
    }
   ],
   "source": [
    "# updating entire dict\n",
    "student.update({'Name':'Mark', 'Age':40, 'Courses':['French', 'Spanish'], 'Phone':555544442166})\n",
    "print(student)"
   ]
  },
  {
   "cell_type": "markdown",
   "metadata": {},
   "source": [
    "<b> DELETING ITEMS USING KEY<b>"
   ]
  },
  {
   "cell_type": "code",
   "execution_count": 71,
   "metadata": {},
   "outputs": [
    {
     "name": "stdout",
     "output_type": "stream",
     "text": [
      "{'Name': 'Mark', 'Courses': ['French', 'Spanish'], 'Phone': 555544442166}\n"
     ]
    }
   ],
   "source": [
    "# deleting key\n",
    "del student['Age']\n",
    "print(student)"
   ]
  },
  {
   "cell_type": "markdown",
   "metadata": {},
   "source": [
    "<b> DELETING ITEMS USING POP<b>"
   ]
  },
  {
   "cell_type": "code",
   "execution_count": 73,
   "metadata": {},
   "outputs": [
    {
     "name": "stdout",
     "output_type": "stream",
     "text": [
      "555544442166\n",
      "{'Name': 'Mark', 'Courses': ['French', 'Spanish']}\n"
     ]
    }
   ],
   "source": [
    "# poping element\n",
    "age = student.pop('Phone')\n",
    "print(age)\n",
    "print(student)"
   ]
  },
  {
   "cell_type": "markdown",
   "metadata": {},
   "source": [
    "<b> LENGHT OF DICT<b>"
   ]
  },
  {
   "cell_type": "code",
   "execution_count": 74,
   "metadata": {},
   "outputs": [
    {
     "name": "stdout",
     "output_type": "stream",
     "text": [
      "2\n"
     ]
    }
   ],
   "source": [
    "# getting length of the dict\n",
    "print(len(student))\n",
    "# 2 keys and 2 values"
   ]
  },
  {
   "cell_type": "markdown",
   "metadata": {},
   "source": [
    "<b> GETTING KEYS, VALUES AND BOTH<b>"
   ]
  },
  {
   "cell_type": "code",
   "execution_count": 78,
   "metadata": {},
   "outputs": [
    {
     "name": "stdout",
     "output_type": "stream",
     "text": [
      "dict_keys(['Name', 'Courses'])\n",
      "dict_values(['Mark', ['French', 'Spanish']])\n",
      "dict_items([('Name', 'Mark'), ('Courses', ['French', 'Spanish'])])\n"
     ]
    }
   ],
   "source": [
    "# getting only keys and values\n",
    "# keys\n",
    "print(student.keys())\n",
    "\n",
    "# values\n",
    "print(student.values())\n",
    "\n",
    "# both keys-values pair\n",
    "print(student.items())"
   ]
  },
  {
   "cell_type": "markdown",
   "metadata": {},
   "source": [
    "<b> LOOPING IN DICT<b>"
   ]
  },
  {
   "cell_type": "code",
   "execution_count": 94,
   "metadata": {},
   "outputs": [
    {
     "name": "stdout",
     "output_type": "stream",
     "text": [
      "Name\n",
      "Courses\n"
     ]
    }
   ],
   "source": [
    "# only keys\n",
    "for keys in student.keys():\n",
    "    print(keys)"
   ]
  },
  {
   "cell_type": "code",
   "execution_count": 95,
   "metadata": {},
   "outputs": [
    {
     "name": "stdout",
     "output_type": "stream",
     "text": [
      "Mark\n",
      "['French', 'Spanish']\n"
     ]
    }
   ],
   "source": [
    "# only values\n",
    "for values in student.values():\n",
    "    print(values)"
   ]
  },
  {
   "cell_type": "code",
   "execution_count": 100,
   "metadata": {},
   "outputs": [
    {
     "name": "stdout",
     "output_type": "stream",
     "text": [
      "Name - Mark\n",
      "Courses - ['French', 'Spanish']\n"
     ]
    }
   ],
   "source": [
    "# both keys and values\n",
    "for keys, values in student.items():\n",
    "    print(f'{keys} - {values}')\n",
    "    # print(keys, values)"
   ]
  },
  {
   "cell_type": "markdown",
   "metadata": {},
   "source": [
    "<b> IF CONDITION <b>"
   ]
  },
  {
   "cell_type": "code",
   "execution_count": 101,
   "metadata": {},
   "outputs": [
    {
     "name": "stdout",
     "output_type": "stream",
     "text": [
      "Condition is True\n"
     ]
    }
   ],
   "source": [
    "# if is conditional statement ( uses comaprison operators )\n",
    "if True:\n",
    "    print('Condition is True')"
   ]
  },
  {
   "cell_type": "code",
   "execution_count": 103,
   "metadata": {},
   "outputs": [
    {
     "name": "stdout",
     "output_type": "stream",
     "text": [
      "This is Python.\n"
     ]
    }
   ],
   "source": [
    "language = 'Python'\n",
    "if language == 'Python':\n",
    "    print('This is Python.')"
   ]
  },
  {
   "cell_type": "markdown",
   "metadata": {},
   "source": [
    "<b> IF ELSE CONDITION<b>"
   ]
  },
  {
   "cell_type": "code",
   "execution_count": 106,
   "metadata": {},
   "outputs": [
    {
     "name": "stdout",
     "output_type": "stream",
     "text": [
      "Not eligible to vote\n"
     ]
    }
   ],
   "source": [
    "age = 17\n",
    "if age >= 18:\n",
    "    print('Eligible to vote')\n",
    "else:\n",
    "    print('Not eligible to vote')"
   ]
  },
  {
   "cell_type": "markdown",
   "metadata": {},
   "source": [
    "<b> IF ELIF ELSE CONDITION <b>"
   ]
  },
  {
   "cell_type": "code",
   "execution_count": 116,
   "metadata": {},
   "outputs": [
    {
     "name": "stdout",
     "output_type": "stream",
     "text": [
      "He is cricketer.\n"
     ]
    }
   ],
   "source": [
    "player = 'Dhoni'\n",
    "# player = 'Messi'\n",
    "# player = 'Jhon'\n",
    "if player == 'Dhoni':\n",
    "    print( 'He is cricketer.')\n",
    "elif player == 'Messi':\n",
    "    print('He is footballer.')\n",
    "else:\n",
    "    print('He is not a player')"
   ]
  },
  {
   "cell_type": "markdown",
   "metadata": {},
   "source": [
    "<b> IF ELSE WITH COMPARISON OPERATOR <b>"
   ]
  },
  {
   "cell_type": "code",
   "execution_count": 123,
   "metadata": {},
   "outputs": [
    {
     "name": "stdout",
     "output_type": "stream",
     "text": [
      "Enter username: Sumit\n",
      "Enter password: Admin@123\n",
      "Welcome! Sumit. You are successfuly logged in.\n"
     ]
    }
   ],
   "source": [
    "usernname = 'Sumit'\n",
    "password = 'Admin@123'\n",
    "inp_username = input('Enter username: ')\n",
    "inp_password = input('Enter password: ')\n",
    "if inp_username == 'Sumit' and inp_password == 'Admin@123':\n",
    "    print('Welcome! ' + inp_username + '. You are successfuly logged in.')\n",
    "else:\n",
    "    print('Bad creds.')"
   ]
  },
  {
   "cell_type": "markdown",
   "metadata": {},
   "source": [
    "<b> OBJECT IDENTITY 'IS' <b>"
   ]
  },
  {
   "cell_type": "code",
   "execution_count": 129,
   "metadata": {},
   "outputs": [
    {
     "name": "stdout",
     "output_type": "stream",
     "text": [
      "103083336\n",
      "100448520\n",
      "Both are equal\n"
     ]
    }
   ],
   "source": [
    "# == identity\n",
    "a = [1, 2, 3]\n",
    "b = [1, 2, 3]\n",
    "print(id(a))\n",
    "print(id(b))\n",
    "if a == b: # compares value not address\n",
    "    print('Both are equal')\n",
    "else:\n",
    "    print('Both are not equal')"
   ]
  },
  {
   "cell_type": "code",
   "execution_count": 131,
   "metadata": {},
   "outputs": [
    {
     "name": "stdout",
     "output_type": "stream",
     "text": [
      "103083336\n",
      "100545544\n",
      "Both are not equal\n"
     ]
    }
   ],
   "source": [
    "# is identity\n",
    "a = [1, 2, 3]\n",
    "b = [1, 2, 3]\n",
    "print(id(a))\n",
    "print(id(b))\n",
    "if a is b: # compares address not values \n",
    "    print('Both are equal')\n",
    "else:\n",
    "    print('Both are not equal')"
   ]
  },
  {
   "cell_type": "code",
   "execution_count": 128,
   "metadata": {},
   "outputs": [
    {
     "name": "stdout",
     "output_type": "stream",
     "text": [
      "103264136\n",
      "103264136\n",
      "Both are equal\n"
     ]
    }
   ],
   "source": [
    "# is identity\n",
    "a = [1, 2, 3]\n",
    "b = a\n",
    "print(id(a))\n",
    "print(id(b))\n",
    "if a == b:\n",
    "    print('Both are equal')\n",
    "else:\n",
    "    print('Both are not equal')"
   ]
  },
  {
   "cell_type": "markdown",
   "metadata": {},
   "source": [
    "<b> BREAK STATEMENT<b>"
   ]
  },
  {
   "cell_type": "code",
   "execution_count": 143,
   "metadata": {},
   "outputs": [
    {
     "name": "stdout",
     "output_type": "stream",
     "text": [
      "20\n",
      "30\n",
      "34\n",
      "Item found\n"
     ]
    }
   ],
   "source": [
    "# break the loop if condition is satisfied\n",
    "ages = [20, 30, 34, 24, 56, 24]\n",
    "for age in ages:\n",
    "    if age == 24:\n",
    "        print('Item found')\n",
    "        break\n",
    "    print(age)"
   ]
  },
  {
   "cell_type": "markdown",
   "metadata": {},
   "source": [
    "<b> CONTINUE STATEMENT <b>"
   ]
  },
  {
   "cell_type": "code",
   "execution_count": 142,
   "metadata": {},
   "outputs": [
    {
     "name": "stdout",
     "output_type": "stream",
     "text": [
      "20\n",
      "30\n",
      "34\n",
      "Item found\n",
      "56\n",
      "62\n",
      "Item found\n"
     ]
    }
   ],
   "source": [
    "# continue will continue the loop except where the condition is staisfied\n",
    "ages = [20, 30, 34, 24, 56, 62, 24]\n",
    "for age in ages:\n",
    "    if age == 24:\n",
    "        print('Item found')\n",
    "        continue\n",
    "    print(age)"
   ]
  },
  {
   "cell_type": "markdown",
   "metadata": {},
   "source": [
    "<b> NESTED FOR LOOP <b>"
   ]
  },
  {
   "cell_type": "code",
   "execution_count": 155,
   "metadata": {},
   "outputs": [
    {
     "name": "stdout",
     "output_type": "stream",
     "text": [
      "1 a\n",
      "1 b\n",
      "2 a\n",
      "2 b\n",
      "Total loop :\n",
      "4\n"
     ]
    }
   ],
   "source": [
    "numbers = [1, 2]\n",
    "letter = 'ab'\n",
    "i = 0\n",
    "for num in numbers:\n",
    "    for le in letter:\n",
    "        print(num, le)\n",
    "        i = i +1\n",
    "print('Total loop :')\n",
    "print(i)"
   ]
  },
  {
   "cell_type": "markdown",
   "metadata": {},
   "source": [
    "<b> RNAGE WITH FOR LOOP<b>"
   ]
  },
  {
   "cell_type": "code",
   "execution_count": 156,
   "metadata": {},
   "outputs": [
    {
     "name": "stdout",
     "output_type": "stream",
     "text": [
      "0\n",
      "1\n",
      "2\n",
      "3\n",
      "4\n"
     ]
    }
   ],
   "source": [
    "# print upto range\n",
    "for num in range(5):\n",
    "    print(num)"
   ]
  },
  {
   "cell_type": "code",
   "execution_count": 157,
   "metadata": {},
   "outputs": [
    {
     "name": "stdout",
     "output_type": "stream",
     "text": [
      "1\n",
      "2\n",
      "3\n",
      "4\n"
     ]
    }
   ],
   "source": [
    "# print within given range\n",
    "for num in range(1, 5):\n",
    "    print(num)"
   ]
  },
  {
   "cell_type": "markdown",
   "metadata": {},
   "source": [
    "<b> WHILE LOOP <b>"
   ]
  },
  {
   "cell_type": "code",
   "execution_count": 5,
   "metadata": {},
   "outputs": [
    {
     "name": "stdout",
     "output_type": "stream",
     "text": [
      "1\n",
      "2\n",
      "3\n",
      "4\n",
      "5\n"
     ]
    }
   ],
   "source": [
    "# while loop terminate for condition\n",
    "x = 1\n",
    "while x < 6:\n",
    "    print(x)\n",
    "    x += 1"
   ]
  },
  {
   "cell_type": "code",
   "execution_count": 8,
   "metadata": {},
   "outputs": [
    {
     "data": {
      "text/plain": [
       "['defenestrate', 'window', 'cat', 'cat', 'window', 'defenestrate']"
      ]
     },
     "execution_count": 8,
     "metadata": {},
     "output_type": "execute_result"
    }
   ],
   "source": [
    "words = ['cat', 'window', 'defenestrate']\n",
    "for w in words[:]:  # Loop over a slice copy of the entire list.\n",
    "    if len(w) > 2:\n",
    "        words.insert(0, w)\n",
    "words"
   ]
  },
  {
   "cell_type": "code",
   "execution_count": 1,
   "metadata": {},
   "outputs": [
    {
     "name": "stdout",
     "output_type": "stream",
     "text": [
      "1\n",
      "2\n",
      "Item Found\n"
     ]
    }
   ],
   "source": [
    "# while loop with break statement\n",
    "x = 1\n",
    "while x < 6:\n",
    "    if x == 3:\n",
    "        print('Item Found')\n",
    "        break\n",
    "    print(x)\n",
    "    x += 1"
   ]
  },
  {
   "cell_type": "markdown",
   "metadata": {},
   "source": [
    "<b> FOR ELSE <b>"
   ]
  },
  {
   "cell_type": "code",
   "execution_count": 13,
   "metadata": {},
   "outputs": [
    {
     "name": "stdout",
     "output_type": "stream",
     "text": [
      "Not Found\n"
     ]
    }
   ],
   "source": [
    "numbers = [1, 2, 3, 4, 5]\n",
    "for num in numbers:\n",
    "    if num > 10:\n",
    "        print(num)\n",
    "else:\n",
    "    print('Not Found')"
   ]
  },
  {
   "cell_type": "code",
   "execution_count": 22,
   "metadata": {},
   "outputs": [
    {
     "name": "stdout",
     "output_type": "stream",
     "text": [
      "Odd number found:  1\n",
      "Even number found:  2\n",
      "Odd number found:  3\n",
      "Even number found:  4\n",
      "Odd number found:  5\n"
     ]
    }
   ],
   "source": [
    "# even and odd number\n",
    "for num in range(1, 6):\n",
    "    if num % 2 == 0:\n",
    "        print('Even number found: ', num)\n",
    "        continue\n",
    "    print('Odd number found: ', num)"
   ]
  },
  {
   "cell_type": "code",
   "execution_count": 33,
   "metadata": {},
   "outputs": [
    {
     "name": "stdout",
     "output_type": "stream",
     "text": [
      "Enter a number: 2\n",
      "2 Number is prime\n"
     ]
    }
   ],
   "source": [
    "inp_num = int(input('Enter a number: '))\n",
    "for num in range(2, inp_num):\n",
    "    if inp_num % num == 0:\n",
    "        print(inp_num, 'Number is not prime')\n",
    "        break\n",
    "else:\n",
    "    print(inp_num, 'Number is prime')"
   ]
  },
  {
   "cell_type": "markdown",
   "metadata": {},
   "source": [
    "<B> FUNCTIONS <B>"
   ]
  },
  {
   "cell_type": "code",
   "execution_count": 45,
   "metadata": {},
   "outputs": [
    {
     "name": "stdout",
     "output_type": "stream",
     "text": [
      "<function message at 0x00000000054C50D0>\n",
      "None\n"
     ]
    }
   ],
   "source": [
    "# perform some particular task , reusability of code\n",
    "def message():\n",
    "    pass\n",
    "# print function with name and address in memory\n",
    "print(message)\n",
    "\n",
    "# prints None as there is nothing inside the function body\n",
    "print(message())"
   ]
  },
  {
   "cell_type": "code",
   "execution_count": 48,
   "metadata": {},
   "outputs": [
    {
     "name": "stdout",
     "output_type": "stream",
     "text": [
      "Hello! Python.\n"
     ]
    }
   ],
   "source": [
    "# simple demo\n",
    "def message():\n",
    "    print('Hello! Python.')\n",
    "\n",
    "# calling function by name\n",
    "message()"
   ]
  },
  {
   "cell_type": "markdown",
   "metadata": {},
   "source": [
    "<b> PASS BY VALUE <b>"
   ]
  },
  {
   "cell_type": "code",
   "execution_count": 75,
   "metadata": {},
   "outputs": [
    {
     "name": "stdout",
     "output_type": "stream",
     "text": [
      "Address of a: 8791375000688\n",
      "Still same address: 8791375000688\n",
      "Address after updating a: 8791375000624\n",
      "X is:  8\n",
      "A is:  10\n",
      "\n",
      "Address of lst: 89153096\n",
      "Still same address: 89153096\n",
      "Address after updating list: 89153096\n",
      "List is: [20, 25, 30]\n",
      "List is: [20, 25, 30]\n"
     ]
    }
   ],
   "source": [
    "def update(x): # formal argument\n",
    "    print('Still same address:', id(x))\n",
    "    x = 8\n",
    "    print('Address after updating a:', id(x))\n",
    "    print('X is: ', x)\n",
    "\n",
    "a = 10\n",
    "print('Address of a:', id(a))\n",
    "# we are passing only value of a i.e 10 not var a\n",
    "update(a) # actual argument\n",
    "# value of a didn't changed\n",
    "print('A is: ', a)\n",
    "\n",
    "def updt_list(lis):\n",
    "    print('Still same address:', id(lis))\n",
    "    lis[0] = 20\n",
    "    print('Address after updating list:', id(lis))\n",
    "    print('List is:', lis)\n",
    "    \n",
    "lst = [1, 25, 30]\n",
    "print('\\nAddress of lst:', id(lst))\n",
    "updt_list(lst)\n",
    "# value changed\n",
    "print('List is:', lst)"
   ]
  },
  {
   "cell_type": "markdown",
   "metadata": {},
   "source": [
    "<b> POSITIONAL ARGUMENT <b>"
   ]
  },
  {
   "cell_type": "code",
   "execution_count": 63,
   "metadata": {},
   "outputs": [
    {
     "name": "stdout",
     "output_type": "stream",
     "text": [
      "25 5\n"
     ]
    }
   ],
   "source": [
    "# return some data that can be used repeatitively\n",
    "def add_sub(num_1, num_2):\n",
    "    x = num_1 + num_2\n",
    "    y = num_1 - num_2\n",
    "    return x, y\n",
    "# calling function\n",
    "add, sub = add_sub(15, 10)\n",
    "print(add, sub)"
   ]
  },
  {
   "cell_type": "markdown",
   "metadata": {},
   "source": [
    "<B> DEFAULT ARGUMENT <B>"
   ]
  },
  {
   "cell_type": "code",
   "execution_count": 57,
   "metadata": {},
   "outputs": [
    {
     "name": "stdout",
     "output_type": "stream",
     "text": [
      "Hello, Sumit.\n",
      "Hello, Agent47.\n"
     ]
    }
   ],
   "source": [
    "def hello_fun(greeting, name = 'Sumit'):\n",
    "    return f'{greeting}, {name}.'\n",
    "\n",
    "# even we are not passing 2nd param its taking sumit as default\n",
    "print(hello_fun('Hello'))\n",
    "\n",
    "# but if we pass some value then it will override the deafult one\n",
    "print(hello_fun('Hello', 'Agent47'))"
   ]
  },
  {
   "cell_type": "markdown",
   "metadata": {},
   "source": [
    "<b> KEYWORD ARGUMENT <b>"
   ]
  },
  {
   "cell_type": "code",
   "execution_count": 77,
   "metadata": {},
   "outputs": [
    {
     "name": "stdout",
     "output_type": "stream",
     "text": [
      "My Name is <Sumit> and Age is <20>\n"
     ]
    }
   ],
   "source": [
    "def info(name, age):\n",
    "    return f'My Name is <{name}> and Age is <{age-3}>'\n",
    "\n",
    "# no matter what's the order of argument\n",
    "print(info(age=23, name='Sumit'))"
   ]
  },
  {
   "cell_type": "markdown",
   "metadata": {},
   "source": [
    "<b> VARIABLE LENGTH ARGUMENT <b>"
   ]
  },
  {
   "cell_type": "code",
   "execution_count": 79,
   "metadata": {},
   "outputs": [
    {
     "name": "stdout",
     "output_type": "stream",
     "text": [
      "20\n"
     ]
    }
   ],
   "source": [
    "def sum(*x): # x is tuple\n",
    "    c = 0\n",
    "    for i in x:\n",
    "        c = c + i\n",
    "    return c\n",
    "# will add n numbers ( multiple arguments )\n",
    "a = sum(5,5,5,5)\n",
    "print(a)"
   ]
  },
  {
   "cell_type": "markdown",
   "metadata": {},
   "source": [
    "<b> KEYWORDED VARIABLE LENGTH ARGUMENT <b>"
   ]
  },
  {
   "cell_type": "code",
   "execution_count": 85,
   "metadata": {},
   "outputs": [
    {
     "name": "stdout",
     "output_type": "stream",
     "text": [
      "sumit\n",
      "{'age': 23, 'city': 'Pune', 'mobile': 8287007303}\n"
     ]
    }
   ],
   "source": [
    "def person(name, **data):\n",
    "    print(name)\n",
    "    print(data)\n",
    "# multiple agruments with keys and value\n",
    "person('sumit', age=23, city='Pune', mobile=8287007303)"
   ]
  },
  {
   "cell_type": "markdown",
   "metadata": {},
   "source": [
    "<b> LAMBDA EXPRESSION <b>"
   ]
  },
  {
   "cell_type": "code",
   "execution_count": 88,
   "metadata": {},
   "outputs": [
    {
     "name": "stdout",
     "output_type": "stream",
     "text": [
      "7\n",
      "7\n"
     ]
    }
   ],
   "source": [
    "# lambda expression or anonmous function\n",
    "# compute 3x + 1\n",
    "\n",
    "def fun(x):\n",
    "    return 3*x + 1\n",
    "\n",
    "val = fun(2)\n",
    "print(val)\n",
    "\n",
    "# using lambda expression\n",
    "g = lambda x : 3*x +1\n",
    "print(g(2))"
   ]
  },
  {
   "cell_type": "code",
   "execution_count": 92,
   "metadata": {},
   "outputs": [
    {
     "name": "stdout",
     "output_type": "stream",
     "text": [
      "Professor Leonard\n"
     ]
    }
   ],
   "source": [
    "# multiple arg lambda expression\n",
    "full_name = lambda f_name, l_name : f_name.strip() + ' ' + l_name.strip()\n",
    "print(full_name('    Professor', 'Leonard'))"
   ]
  },
  {
   "cell_type": "code",
   "execution_count": null,
   "metadata": {},
   "outputs": [],
   "source": []
  },
  {
   "cell_type": "markdown",
   "metadata": {},
   "source": [
    "<b> CLASSES <b>"
   ]
  },
  {
   "cell_type": "code",
   "execution_count": 112,
   "metadata": {},
   "outputs": [
    {
     "name": "stdout",
     "output_type": "stream",
     "text": [
      "Employee1 data: Sumit Kumar 30000\n",
      "Employee2 data: Test User 40000\n",
      "Full Name is Sumit Kumar.\n",
      "Full Name is Test User.\n",
      "Previous salary:  30000\n",
      "Hiked salary:  42000\n"
     ]
    }
   ],
   "source": [
    "# class = attribute + methods\n",
    "# object is blueprint of class\n",
    "\n",
    "class Employee:\n",
    "    raise_amount = 0.4 # class variable ( unique to all emp )\n",
    "    # constuctor ( self as this- points current object)\n",
    "    def __init__(self, f_name, l_name, salary):\n",
    "        # these are instance variables ( same to all emp )\n",
    "        self.f_name = f_name\n",
    "        self.l_name = l_name\n",
    "        self.salary = salary\n",
    "    \n",
    "    def full_name(self):\n",
    "        return f'Full Name is {self.f_name} {self.l_name}.'\n",
    "    \n",
    "    def apply_raise(self):\n",
    "        self.salary = int(self.salary + (self.salary * self.raise_amount))\n",
    "\n",
    "# constructor gets initiated ( emp1 passed as self in init)\n",
    "emp1 = Employee('Sumit', 'Kumar', 30000)\n",
    "emp2 = Employee('Test', 'User', 40000)\n",
    "\n",
    "print('Employee1 data:', emp1.f_name, emp1.l_name, emp1.salary)\n",
    "print('Employee2 data:', emp2.f_name, emp2.l_name, emp2.salary)\n",
    "\n",
    "print(emp1.full_name())\n",
    "# same as previous ( backend process)\n",
    "print(Employee.full_name(emp2))\n",
    "\n",
    "print('Previous salary: ', emp1.salary)\n",
    "emp1.apply_raise()\n",
    "print('Hiked salary: ', emp1.salary)\n",
    "        "
   ]
  },
  {
   "cell_type": "code",
   "execution_count": null,
   "metadata": {},
   "outputs": [],
   "source": []
  }
 ],
 "metadata": {
  "kernelspec": {
   "display_name": "Python 3",
   "language": "python",
   "name": "python3"
  },
  "language_info": {
   "codemirror_mode": {
    "name": "ipython",
    "version": 3
   },
   "file_extension": ".py",
   "mimetype": "text/x-python",
   "name": "python",
   "nbconvert_exporter": "python",
   "pygments_lexer": "ipython3",
   "version": "3.7.1"
  }
 },
 "nbformat": 4,
 "nbformat_minor": 2
}
