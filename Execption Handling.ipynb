{
 "cells": [
  {
   "cell_type": "markdown",
   "metadata": {},
   "source": [
    "In Python, exceptions can be handled using a try statement. A critical operation which can raise exception is placed inside the try clause and the code that handles exception is written in except clause."
   ]
  },
  {
   "cell_type": "code",
   "execution_count": 1,
   "metadata": {},
   "outputs": [
    {
     "name": "stdout",
     "output_type": "stream",
     "text": [
      "Enter 1st Number: 1\n",
      "Enter 2st Number: 0\n",
      "Division by zero exception\n"
     ]
    }
   ],
   "source": [
    "x = input('Enter 1st Number: ')\n",
    "y = input('Enter 2st Number: ')\n",
    "try:\n",
    "    z = int(x)/int(y)\n",
    "    print(z)\n",
    "except ZeroDivisionError:\n",
    "    print('Division by zero exception')"
   ]
  },
  {
   "cell_type": "code",
   "execution_count": 2,
   "metadata": {},
   "outputs": [
    {
     "name": "stdout",
     "output_type": "stream",
     "text": [
      "Enter 1st Number: d\n",
      "Enter 2st Number: 2\n",
      "Type error exception\n"
     ]
    }
   ],
   "source": [
    "x = input('Enter 1st Number: ')\n",
    "y = input('Enter 2st Number: ')\n",
    "try:\n",
    "    z = x/int(y)\n",
    "    print(z)\n",
    "except TypeError:\n",
    "    print('Type error exception')"
   ]
  },
  {
   "cell_type": "code",
   "execution_count": 3,
   "metadata": {},
   "outputs": [
    {
     "name": "stdout",
     "output_type": "stream",
     "text": [
      "Enter 1st Number: 4\n",
      "Enter 2st Number: 2\n",
      "2.0\n"
     ]
    }
   ],
   "source": [
    "x = input('Enter 1st Number: ')\n",
    "y = input('Enter 2st Number: ')\n",
    "try:\n",
    "    z = int(x)/int(y)\n",
    "    print(z)\n",
    "except ZeroDivisionError:\n",
    "    print('Division by zero exception')"
   ]
  },
  {
   "cell_type": "code",
   "execution_count": 5,
   "metadata": {},
   "outputs": [
    {
     "name": "stdout",
     "output_type": "stream",
     "text": [
      "Accident occurs take diversion.\n"
     ]
    }
   ],
   "source": [
    "# user defined execption\n",
    "class Accident(Exception):\n",
    "    def __init__(self, msg):\n",
    "        self.msg = msg\n",
    "    def handle(self):\n",
    "        print('Accident occurs take diversion.')\n",
    "\n",
    "try:\n",
    "    raise Accident('Crash of cars')\n",
    "except Accident as a:\n",
    "    a.handle()"
   ]
  },
  {
   "cell_type": "code",
   "execution_count": 15,
   "metadata": {},
   "outputs": [
    {
     "name": "stdout",
     "output_type": "stream",
     "text": [
      "Error [Errno 2] No such file or directory: 'c\\\\data\\\\file.txt'\n",
      "Cleanig up step\n"
     ]
    },
    {
     "ename": "UnboundLocalError",
     "evalue": "local variable 'f' referenced before assignment",
     "output_type": "error",
     "traceback": [
      "\u001b[1;31m---------------------------------------------------------------------------\u001b[0m",
      "\u001b[1;31mUnboundLocalError\u001b[0m                         Traceback (most recent call last)",
      "\u001b[1;32m<ipython-input-15-fd3df96c0829>\u001b[0m in \u001b[0;36m<module>\u001b[1;34m\u001b[0m\n\u001b[0;32m     10\u001b[0m         \u001b[0mf\u001b[0m\u001b[1;33m.\u001b[0m\u001b[0mclose\u001b[0m\u001b[1;33m(\u001b[0m\u001b[1;33m)\u001b[0m\u001b[1;33m\u001b[0m\u001b[1;33m\u001b[0m\u001b[0m\n\u001b[0;32m     11\u001b[0m \u001b[1;33m\u001b[0m\u001b[0m\n\u001b[1;32m---> 12\u001b[1;33m \u001b[0mprocess_file\u001b[0m\u001b[1;33m(\u001b[0m\u001b[1;33m)\u001b[0m\u001b[1;33m\u001b[0m\u001b[1;33m\u001b[0m\u001b[0m\n\u001b[0m",
      "\u001b[1;32m<ipython-input-15-fd3df96c0829>\u001b[0m in \u001b[0;36mprocess_file\u001b[1;34m()\u001b[0m\n\u001b[0;32m      8\u001b[0m     \u001b[1;32mfinally\u001b[0m\u001b[1;33m:\u001b[0m  \u001b[1;31m# even file is not found this finally block will run for closing file\u001b[0m\u001b[1;33m\u001b[0m\u001b[1;33m\u001b[0m\u001b[0m\n\u001b[0;32m      9\u001b[0m         \u001b[0mprint\u001b[0m\u001b[1;33m(\u001b[0m\u001b[1;34m'Cleanig up step'\u001b[0m\u001b[1;33m)\u001b[0m\u001b[1;33m\u001b[0m\u001b[1;33m\u001b[0m\u001b[0m\n\u001b[1;32m---> 10\u001b[1;33m         \u001b[0mf\u001b[0m\u001b[1;33m.\u001b[0m\u001b[0mclose\u001b[0m\u001b[1;33m(\u001b[0m\u001b[1;33m)\u001b[0m\u001b[1;33m\u001b[0m\u001b[1;33m\u001b[0m\u001b[0m\n\u001b[0m\u001b[0;32m     11\u001b[0m \u001b[1;33m\u001b[0m\u001b[0m\n\u001b[0;32m     12\u001b[0m \u001b[0mprocess_file\u001b[0m\u001b[1;33m(\u001b[0m\u001b[1;33m)\u001b[0m\u001b[1;33m\u001b[0m\u001b[1;33m\u001b[0m\u001b[0m\n",
      "\u001b[1;31mUnboundLocalError\u001b[0m: local variable 'f' referenced before assignment"
     ]
    }
   ],
   "source": [
    "# finally \n",
    "def process_file():\n",
    "    try:\n",
    "        f = open(\"c\\\\data\\\\file.txt\")\n",
    "        x = 1/0\n",
    "    except FileNotFoundError as e:\n",
    "        print('Error', e)\n",
    "    finally:  # even file is not found this finally block will run for closing file\n",
    "        print('Cleanig up step')\n",
    "        f.close()\n",
    "\n",
    "process_file()"
   ]
  },
  {
   "cell_type": "code",
   "execution_count": null,
   "metadata": {},
   "outputs": [],
   "source": []
  },
  {
   "cell_type": "code",
   "execution_count": null,
   "metadata": {},
   "outputs": [],
   "source": []
  }
 ],
 "metadata": {
  "kernelspec": {
   "display_name": "Python 3",
   "language": "python",
   "name": "python3"
  },
  "language_info": {
   "codemirror_mode": {
    "name": "ipython",
    "version": 3
   },
   "file_extension": ".py",
   "mimetype": "text/x-python",
   "name": "python",
   "nbconvert_exporter": "python",
   "pygments_lexer": "ipython3",
   "version": "3.7.1"
  }
 },
 "nbformat": 4,
 "nbformat_minor": 2
}
