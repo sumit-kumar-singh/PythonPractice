{
 "cells": [
  {
   "cell_type": "markdown",
   "metadata": {},
   "source": [
    "<b> NUMPY <b>"
   ]
  },
  {
   "cell_type": "code",
   "execution_count": 93,
   "metadata": {},
   "outputs": [
    {
     "name": "stdout",
     "output_type": "stream",
     "text": [
      "NumPy Array: \n",
      " [1 2 3 4]\n",
      "Dimension is:  1\n"
     ]
    }
   ],
   "source": [
    "# numpy a library for scientific caluclation\n",
    "import numpy as np\n",
    "# creating array\n",
    "arr1 = np.array([1, 2, 3, 4])\n",
    "print('NumPy Array: \\n', arr1)\n",
    "print('Dimension is: ', arr1.ndim)"
   ]
  },
  {
   "cell_type": "markdown",
   "metadata": {},
   "source": [
    "<b> BASIC OPERATIONS<b>"
   ]
  },
  {
   "cell_type": "code",
   "execution_count": 94,
   "metadata": {},
   "outputs": [
    {
     "name": "stdout",
     "output_type": "stream",
     "text": [
      "Addition : \n",
      " [10 10 10 10]\n"
     ]
    }
   ],
   "source": [
    "# adding two array\n",
    "arr1 = np.array([2, 4, 6, 8])\n",
    "arr2 = np.array([8, 6, 4, 2])\n",
    "# gives sum of items of both arrar a1[0] + a2[0].....\n",
    "print('Addition : \\n', arr1 + arr2)"
   ]
  },
  {
   "cell_type": "code",
   "execution_count": 95,
   "metadata": {},
   "outputs": [
    {
     "name": "stdout",
     "output_type": "stream",
     "text": [
      "Substraction : \n",
      " [ 6  2 -2 -6]\n"
     ]
    }
   ],
   "source": [
    "# substracting two array\n",
    "arr1 = np.array([2, 4, 6, 8])\n",
    "arr2 = np.array([8, 6, 4, 2])\n",
    "# gives difference of items of both arrar a1[0] - a2[0].....\n",
    "print('Substraction : \\n', arr2 - arr1)"
   ]
  },
  {
   "cell_type": "code",
   "execution_count": 96,
   "metadata": {},
   "outputs": [
    {
     "name": "stdout",
     "output_type": "stream",
     "text": [
      "Multiplication : \n",
      " [16 24 24 16]\n"
     ]
    }
   ],
   "source": [
    "# multiplication two array\n",
    "arr1 = np.array([2, 4, 6, 8])\n",
    "arr2 = np.array([8, 6, 4, 2])\n",
    "# gives multiplication of items of both arrar a1[0] * a2[0].....\n",
    "print('Multiplication : \\n', arr2 * arr1)"
   ]
  },
  {
   "cell_type": "code",
   "execution_count": 98,
   "metadata": {
    "scrolled": true
   },
   "outputs": [
    {
     "name": "stdout",
     "output_type": "stream",
     "text": [
      "Division : \n",
      " [2. 2. 2. 2.]\n"
     ]
    }
   ],
   "source": [
    "# division two array\n",
    "arr1 = np.array([4, 3, 2, 1])\n",
    "arr2 = np.array([8, 6, 4, 2])\n",
    "# gives difference of items of both arrar a1[0] / a2[0].....\n",
    "print('Division : \\n', arr2 / arr1)"
   ]
  },
  {
   "cell_type": "code",
   "execution_count": 169,
   "metadata": {},
   "outputs": [
    {
     "name": "stdout",
     "output_type": "stream",
     "text": [
      "Standard Deviation :  1.12\n",
      "Mean :  2.5\n"
     ]
    }
   ],
   "source": [
    "# standard deviation\n",
    "arr1 = np.array([4, 3, 2, 1])\n",
    "print('Standard Deviation : ', round(np.std(arr1), 2))\n",
    "\n",
    "# mean \n",
    "print('Mean : ', round(np.mean(arr1), 2))"
   ]
  },
  {
   "cell_type": "code",
   "execution_count": 163,
   "metadata": {},
   "outputs": [
    {
     "name": "stdout",
     "output_type": "stream",
     "text": [
      "Dot Product : \n",
      " 60\n",
      "Matrix Product : \n",
      " 60\n"
     ]
    }
   ],
   "source": [
    "# dot product two array\n",
    "arr1 = np.array([4, 3, 2, 1])\n",
    "arr2 = np.array([8, 6, 4, 2])\n",
    "# gives difference of items of both arrar a1[0] / a2[0].....\n",
    "print('Dot Product : \\n', arr2.dot(arr1))\n",
    "\n",
    "# matrix product\n",
    "print('Matrix Product : \\n', arr1 @ arr2)"
   ]
  },
  {
   "cell_type": "markdown",
   "metadata": {},
   "source": [
    "<b> 2D ARRAY <b>"
   ]
  },
  {
   "cell_type": "code",
   "execution_count": 101,
   "metadata": {},
   "outputs": [
    {
     "name": "stdout",
     "output_type": "stream",
     "text": [
      "2D Array : \n",
      " [[ 2  5]\n",
      " [ 4 10]\n",
      " [ 6 15]\n",
      " [ 8 20]]\n"
     ]
    }
   ],
   "source": [
    "# 2 dimensional numpy array\n",
    "twod_array = np.array([[2, 5], [4, 10], [6, 15], [8, 20]])\n",
    "print('2D Array : \\n', twod_array)"
   ]
  },
  {
   "cell_type": "code",
   "execution_count": 102,
   "metadata": {},
   "outputs": [
    {
     "name": "stdout",
     "output_type": "stream",
     "text": [
      "2 Dimension Array.\n"
     ]
    }
   ],
   "source": [
    "# getting dimensions\n",
    "print(twod_array.ndim, 'Dimension Array.')"
   ]
  },
  {
   "cell_type": "code",
   "execution_count": 103,
   "metadata": {},
   "outputs": [
    {
     "name": "stdout",
     "output_type": "stream",
     "text": [
      "Data Type is:  int32\n"
     ]
    }
   ],
   "source": [
    "# getting data type\n",
    "print('Data Type is: ', twod_array.dtype)"
   ]
  },
  {
   "cell_type": "code",
   "execution_count": 104,
   "metadata": {},
   "outputs": [
    {
     "name": "stdout",
     "output_type": "stream",
     "text": [
      "Item Size is:  4\n"
     ]
    }
   ],
   "source": [
    "# item size ( size of each item )\n",
    "print('Item Size is: ', twod_array.itemsize)"
   ]
  },
  {
   "cell_type": "markdown",
   "metadata": {},
   "source": [
    "<b> COMPLEX ARRAY <b>"
   ]
  },
  {
   "cell_type": "code",
   "execution_count": 105,
   "metadata": {},
   "outputs": [
    {
     "name": "stdout",
     "output_type": "stream",
     "text": [
      "Complex Array: \n",
      " [[ 2.+0.j  5.+0.j]\n",
      " [ 4.+0.j 10.+0.j]\n",
      " [ 6.+0.j 15.+0.j]\n",
      " [ 8.+0.j 20.+0.j]]\n"
     ]
    }
   ],
   "source": [
    "# complex type array\n",
    "complex_twod_array = np.array([[2, 5], [4, 10], [6, 15], [8, 20]], dtype = complex)\n",
    "print('Complex Array: \\n', complex_twod_array)"
   ]
  },
  {
   "cell_type": "markdown",
   "metadata": {},
   "source": [
    "<b> FLOAT ARRAY <b>"
   ]
  },
  {
   "cell_type": "code",
   "execution_count": 106,
   "metadata": {},
   "outputs": [
    {
     "name": "stdout",
     "output_type": "stream",
     "text": [
      "Float Array: \n",
      " [[ 2.  5.]\n",
      " [ 4. 10.]\n",
      " [ 6. 15.]\n",
      " [ 8. 20.]]\n"
     ]
    }
   ],
   "source": [
    "# float type array\n",
    "float_twod_array = np.array([[2, 5], [4, 10], [6, 15], [8, 20]], dtype = float)\n",
    "print('Float Array: \\n', float_twod_array)"
   ]
  },
  {
   "cell_type": "code",
   "execution_count": 107,
   "metadata": {},
   "outputs": [
    {
     "name": "stdout",
     "output_type": "stream",
     "text": [
      "Data Type is:  float64\n"
     ]
    }
   ],
   "source": [
    "# getting data type\n",
    "print('Data Type is: ', float_twod_array.dtype)"
   ]
  },
  {
   "cell_type": "code",
   "execution_count": 108,
   "metadata": {},
   "outputs": [
    {
     "name": "stdout",
     "output_type": "stream",
     "text": [
      "Item Size is:  8\n"
     ]
    }
   ],
   "source": [
    "# item size ( size of each item )\n",
    "print('Item Size is: ', float_twod_array.itemsize)"
   ]
  },
  {
   "cell_type": "code",
   "execution_count": 109,
   "metadata": {},
   "outputs": [
    {
     "name": "stdout",
     "output_type": "stream",
     "text": [
      "(4, 2)\n"
     ]
    }
   ],
   "source": [
    "# shape of the array\n",
    "print(twod_array.shape)\n",
    "# return ( row, column )"
   ]
  },
  {
   "cell_type": "markdown",
   "metadata": {},
   "source": [
    "<b> ZEROS AND ONES ARRAY <b>"
   ]
  },
  {
   "cell_type": "code",
   "execution_count": 156,
   "metadata": {},
   "outputs": [
    {
     "name": "stdout",
     "output_type": "stream",
     "text": [
      "Zeros Array: \n",
      " [[0. 0. 0. 0.]\n",
      " [0. 0. 0. 0.]\n",
      " [0. 0. 0. 0.]]\n",
      "Ones Array: \n",
      " [[1. 1. 1. 1.]\n",
      " [1. 1. 1. 1.]\n",
      " [1. 1. 1. 1.]]\n",
      "Empty Array: \n",
      " [[1. 1. 1. 1.]\n",
      " [1. 1. 1. 1.]\n",
      " [1. 1. 1. 1.]]\n"
     ]
    }
   ],
   "source": [
    "# zeros array with each value as 0.0 \n",
    "zeros_array = np.zeros( (3, 4) )\n",
    "print('Zeros Array: \\n', zeros_array)\n",
    "\n",
    "# ones array with each value as 1.0 \n",
    "ones_array = np.ones( (3, 4) )\n",
    "print('Ones Array: \\n', ones_array)\n",
    "\n",
    "# empty ndarray\n",
    "empty_array = np.empty( (3,4) )\n",
    "print('Empty Array: \\n', empty_array)"
   ]
  },
  {
   "cell_type": "markdown",
   "metadata": {},
   "source": [
    "<b> ARRAY USING ARANGE <b>"
   ]
  },
  {
   "cell_type": "code",
   "execution_count": 111,
   "metadata": {},
   "outputs": [
    {
     "name": "stdout",
     "output_type": "stream",
     "text": [
      "Range Array: \n",
      " [1 2 3 4]\n",
      "Step Array: \n",
      " [1 3 5]\n"
     ]
    }
   ],
   "source": [
    "range_arr = np.arange(1, 5)\n",
    "print('Range Array: \\n', range_arr)\n",
    "# 2 step as 3rd param\n",
    "step_arr = np.arange(1, 7, 2)\n",
    "print('Step Array: \\n', step_arr)"
   ]
  },
  {
   "cell_type": "markdown",
   "metadata": {},
   "source": [
    "<b> LINSPACE ARRAY <b>"
   ]
  },
  {
   "cell_type": "code",
   "execution_count": 112,
   "metadata": {},
   "outputs": [
    {
     "name": "stdout",
     "output_type": "stream",
     "text": [
      "Linspace Array: \n",
      " [1.         1.44444444 1.88888889 2.33333333 2.77777778 3.22222222\n",
      " 3.66666667 4.11111111 4.55555556 5.        ]\n"
     ]
    }
   ],
   "source": [
    "# array of linear sequence ( divides range in given parts )\n",
    "lin_array = np.linspace(1, 5, 10)\n",
    "print('Linspace Array: \\n', lin_array)"
   ]
  },
  {
   "cell_type": "markdown",
   "metadata": {},
   "source": [
    "<b> RESHAPE ARRAY <b>"
   ]
  },
  {
   "cell_type": "code",
   "execution_count": 113,
   "metadata": {},
   "outputs": [
    {
     "name": "stdout",
     "output_type": "stream",
     "text": [
      "Original Array: \n",
      " [[ 2  5]\n",
      " [ 4 10]\n",
      " [ 6 15]\n",
      " [ 8 20]]\n",
      "Reshaped Array: \n",
      " [[ 2  5  4 10]\n",
      " [ 6 15  8 20]]\n"
     ]
    }
   ],
   "source": [
    "# using reshape\n",
    "print('Original Array: \\n', twod_array)\n",
    "print('Reshaped Array: \\n', twod_array.reshape(2,4))"
   ]
  },
  {
   "cell_type": "code",
   "execution_count": 171,
   "metadata": {},
   "outputs": [
    {
     "name": "stdout",
     "output_type": "stream",
     "text": [
      "Ravel Array: \n",
      " [ 2  5  4 10  6 15  8 20]\n",
      "Original Array: \n",
      " [[ 2  5]\n",
      " [ 4 10]\n",
      " [ 6 15]\n",
      " [ 8 20]]\n",
      "Transpose Array: \n",
      " [[ 2  4  6  8]\n",
      " [ 5 10 15 20]]\n"
     ]
    }
   ],
   "source": [
    "# using ravel flatten the array in 1X1\n",
    "print('Ravel Array: \\n', twod_array.ravel())\n",
    "print('Original Array: \\n', twod_array)\n",
    "# original array reamins unchanged\n",
    "\n",
    "# transpose of ndarray\n",
    "print('Transpose Array: \\n', twod_array.T)\n",
    "# original array reamins unchanged\n",
    "\n",
    "# twod_array.resize ( changes the original one)"
   ]
  },
  {
   "cell_type": "markdown",
   "metadata": {},
   "source": [
    "<b> MAX AND MIN ITEM OF ARRAY <b>"
   ]
  },
  {
   "cell_type": "code",
   "execution_count": 115,
   "metadata": {},
   "outputs": [
    {
     "name": "stdout",
     "output_type": "stream",
     "text": [
      "Original Array: \n",
      " [[ 2  5]\n",
      " [ 4 10]\n",
      " [ 6 15]\n",
      " [ 8 20]]\n",
      "Minimum from Array: \n",
      " 2\n",
      "Maximun from Array: \n",
      " 20\n"
     ]
    }
   ],
   "source": [
    "# minimum item in array\n",
    "print('Original Array: \\n', twod_array)\n",
    "print('Minimum from Array: \\n', twod_array.min())\n",
    "# maximun item in array\n",
    "print('Maximun from Array: \\n', twod_array.max())"
   ]
  },
  {
   "cell_type": "markdown",
   "metadata": {},
   "source": [
    "<b> SUM OF ALL ITEMS IN ARRAY <b>"
   ]
  },
  {
   "cell_type": "code",
   "execution_count": 168,
   "metadata": {},
   "outputs": [
    {
     "name": "stdout",
     "output_type": "stream",
     "text": [
      "Original Array: \n",
      " [[ 2  5]\n",
      " [ 4 10]\n",
      " [ 6 15]\n",
      " [ 8 20]]\n",
      "Sum of all items is : \n",
      " 70\n",
      "Original Array: \n",
      " [[ 0  1  2  3]\n",
      " [ 4  5  6  7]\n",
      " [ 8  9 10 11]]\n",
      "Cummulative Sum of all items is : \n",
      " [[ 0  1  3  6]\n",
      " [ 4  9 15 22]\n",
      " [ 8 17 27 38]]\n"
     ]
    }
   ],
   "source": [
    "# sum of all the items in array\n",
    "print('Original Array: \\n', twod_array)\n",
    "print('Sum of all items is : \\n', twod_array.sum())\n",
    "\n",
    "# cummulative sum \n",
    "cum_array = np.arange(12).reshape(3,4)\n",
    "print('Original Array: \\n', cum_array)\n",
    "print('Cummulative Sum of all items is : \\n', cum_array.cumsum(axis=1))\n"
   ]
  },
  {
   "cell_type": "code",
   "execution_count": 117,
   "metadata": {},
   "outputs": [
    {
     "name": "stdout",
     "output_type": "stream",
     "text": [
      "Original Array: \n",
      " [[ 2  5]\n",
      " [ 4 10]\n",
      " [ 6 15]\n",
      " [ 8 20]]\n",
      "Sum of all items X-axis : \n",
      " [ 7 14 21 28]\n"
     ]
    }
   ],
   "source": [
    "# sum of x axis items ( row wise )\n",
    "print('Original Array: \\n', twod_array)\n",
    "print('Sum of all items X-axis : \\n', twod_array.sum(axis=1))"
   ]
  },
  {
   "cell_type": "code",
   "execution_count": 118,
   "metadata": {},
   "outputs": [
    {
     "name": "stdout",
     "output_type": "stream",
     "text": [
      "Original Array: \n",
      " [[ 2  5]\n",
      " [ 4 10]\n",
      " [ 6 15]\n",
      " [ 8 20]]\n",
      "Sum of all items Y-axis : \n",
      " [20 50]\n"
     ]
    }
   ],
   "source": [
    "# sum of y axis items ( column wise )\n",
    "print('Original Array: \\n', twod_array)\n",
    "print('Sum of all items Y-axis : \\n', twod_array.sum(axis=0))"
   ]
  },
  {
   "cell_type": "markdown",
   "metadata": {},
   "source": [
    "<B> SQUARE ROOT <B>\n",
    "    "
   ]
  },
  {
   "cell_type": "code",
   "execution_count": 119,
   "metadata": {},
   "outputs": [
    {
     "name": "stdout",
     "output_type": "stream",
     "text": [
      "Array : \n",
      " [[ 4 16 81]\n",
      " [ 9 25 49]\n",
      " [16 36 64]]\n",
      "Sqaured Root Array : \n",
      " [[2. 4. 9.]\n",
      " [3. 5. 7.]\n",
      " [4. 6. 8.]]\n"
     ]
    }
   ],
   "source": [
    "# sqaure root of array\n",
    "new_array = np.array([[4, 16, 81], [9, 25, 49], [16, 36, 64]])\n",
    "print('Array : \\n', new_array)\n",
    "print('Sqaured Root Array : \\n', np.sqrt(new_array))"
   ]
  },
  {
   "cell_type": "markdown",
   "metadata": {},
   "source": [
    "<b> INDEXING IN ARRAY <B>"
   ]
  },
  {
   "cell_type": "code",
   "execution_count": 123,
   "metadata": {},
   "outputs": [
    {
     "name": "stdout",
     "output_type": "stream",
     "text": [
      "Element at 1st index:  2\n",
      "Element at 2nd index:  3\n"
     ]
    }
   ],
   "source": [
    "# getting element by index \n",
    "array_2 = np.array([1, 2, 3, 4, 5])\n",
    "print('Element at 1st index: ', array_2[1])\n",
    "print('Element at 2nd index: ', array_2[2])"
   ]
  },
  {
   "cell_type": "code",
   "execution_count": 135,
   "metadata": {},
   "outputs": [
    {
     "name": "stdout",
     "output_type": "stream",
     "text": [
      "Array : \n",
      " [[ 4 16 81]\n",
      " [ 9 25 49]\n",
      " [16 36 64]]\n",
      "64\n",
      "[16 36 64]\n"
     ]
    }
   ],
   "source": [
    "# for 2D array\n",
    "new_array = np.array([[4, 16, 81], [9, 25, 49], [16, 36, 64]])\n",
    "print('Array : \\n', new_array)\n",
    "print(new_array[2,2])\n",
    "# last element\n",
    "print(new_array[-1])"
   ]
  },
  {
   "cell_type": "markdown",
   "metadata": {},
   "source": [
    "<b> SLICING <b>"
   ]
  },
  {
   "cell_type": "code",
   "execution_count": 126,
   "metadata": {},
   "outputs": [
    {
     "name": "stdout",
     "output_type": "stream",
     "text": [
      "[1 2 3]\n"
     ]
    }
   ],
   "source": [
    "# getting value in some range\n",
    "print(array_2[0:3])"
   ]
  },
  {
   "cell_type": "code",
   "execution_count": 127,
   "metadata": {},
   "outputs": [
    {
     "name": "stdout",
     "output_type": "stream",
     "text": [
      "<class 'numpy.ndarray'>\n"
     ]
    }
   ],
   "source": [
    "# type\n",
    "print(type(array_2[0:3]))"
   ]
  },
  {
   "cell_type": "code",
   "execution_count": 136,
   "metadata": {},
   "outputs": [
    {
     "name": "stdout",
     "output_type": "stream",
     "text": [
      "Array : \n",
      " [[ 4 16 81]\n",
      " [ 9 25 49]\n",
      " [16 36 64]]\n",
      "[16]\n",
      "[16 36 64]\n"
     ]
    }
   ],
   "source": [
    "# for 2D array\n",
    "new_array = np.array([[4, 16, 81], [9, 25, 49], [16, 36, 64]])\n",
    "print('Array : \\n', new_array)\n",
    "print(new_array[0:1, 1])\n",
    "# last element\n",
    "print(new_array[-1])"
   ]
  },
  {
   "cell_type": "markdown",
   "metadata": {},
   "source": [
    "<B> ITERATING IN ARRAY <B>"
   ]
  },
  {
   "cell_type": "code",
   "execution_count": 137,
   "metadata": {},
   "outputs": [
    {
     "name": "stdout",
     "output_type": "stream",
     "text": [
      "[ 4 16 81]\n",
      "[ 9 25 49]\n",
      "[16 36 64]\n"
     ]
    }
   ],
   "source": [
    "# for loop iteration\n",
    "for row in new_array:\n",
    "    print(row)"
   ]
  },
  {
   "cell_type": "code",
   "execution_count": 139,
   "metadata": {},
   "outputs": [
    {
     "name": "stdout",
     "output_type": "stream",
     "text": [
      "4\n",
      "16\n",
      "81\n",
      "9\n",
      "25\n",
      "49\n",
      "16\n",
      "36\n",
      "64\n"
     ]
    }
   ],
   "source": [
    "# flating cell values using for loop\n",
    "for cell in new_array.flat:\n",
    "    print(cell)\n",
    "# printing all element ( 1Xn matrix )"
   ]
  },
  {
   "cell_type": "markdown",
   "metadata": {},
   "source": [
    "<B> STACKING OF ARRAY <B>"
   ]
  },
  {
   "cell_type": "code",
   "execution_count": 149,
   "metadata": {},
   "outputs": [
    {
     "name": "stdout",
     "output_type": "stream",
     "text": [
      "First Array: \n",
      " [[0 1]\n",
      " [2 3]\n",
      " [4 5]]\n",
      "Second Array: \n",
      " [[ 6  7]\n",
      " [ 8  9]\n",
      " [10 11]]\n",
      "Vertical Stacking: \n",
      " [[ 0  1]\n",
      " [ 2  3]\n",
      " [ 4  5]\n",
      " [ 6  7]\n",
      " [ 8  9]\n",
      " [10 11]]\n",
      "Horizontal Stacking: \n",
      " [[ 0  1  6  7]\n",
      " [ 2  3  8  9]\n",
      " [ 4  5 10 11]]\n"
     ]
    }
   ],
   "source": [
    "# stacking array one over other\n",
    "array_11 = np.arange(6).reshape(3,2)\n",
    "print('First Array: \\n', array_11)\n",
    "array_12 = np.arange(6, 12).reshape(3,2)\n",
    "print('Second Array: \\n', array_12)\n",
    "\n",
    "# vertical stacking ( takes tuple as argument )\n",
    "print('Vertical Stacking: \\n', np.vstack( (array_11, array_12) ))\n",
    "\n",
    "# horizontal stacking ( takes tuple as argument )\n",
    "print('Horizontal Stacking: \\n', np.hstack( (array_11, array_12) ))"
   ]
  },
  {
   "cell_type": "code",
   "execution_count": null,
   "metadata": {},
   "outputs": [],
   "source": []
  },
  {
   "cell_type": "code",
   "execution_count": null,
   "metadata": {},
   "outputs": [],
   "source": []
  },
  {
   "cell_type": "code",
   "execution_count": null,
   "metadata": {},
   "outputs": [],
   "source": []
  }
 ],
 "metadata": {
  "kernelspec": {
   "display_name": "Python 3",
   "language": "python",
   "name": "python3"
  },
  "language_info": {
   "codemirror_mode": {
    "name": "ipython",
    "version": 3
   },
   "file_extension": ".py",
   "mimetype": "text/x-python",
   "name": "python",
   "nbconvert_exporter": "python",
   "pygments_lexer": "ipython3",
   "version": "3.7.1"
  }
 },
 "nbformat": 4,
 "nbformat_minor": 2
}
