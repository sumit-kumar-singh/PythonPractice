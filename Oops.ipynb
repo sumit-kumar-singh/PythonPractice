{
 "cells": [
  {
   "cell_type": "markdown",
   "metadata": {},
   "source": [
    "Class is a blueprint created for an object. This defines a set of attributes (properties and methods) that will\n",
    "characterize any object that is instantiated. Combination of properties and methods.\n",
    "Example, take human as a class.\n",
    "Properties : Name, Gender, Occupation\n",
    "Methods : Speaks, Do Work\n",
    "\n",
    "Object is specific instance of the class with properties and methods containing some values.\n",
    "Example, MS Dhoni and Sania Mirja are two object/instance of class human.\n",
    "Properties : Name-MS Dhoni, Gender-Male, Occupation-Cricketer\n",
    "Methods : Speaks-I am captain, Do Work-Play cricket\n",
    "Properties : Name-Sania Mirja, Gender-Female, Occupation-Tennis\n",
    "Methods : Speaks-I am player, Do Work-Play tennis\n",
    "\n",
    "__init__ used as constructor. In the init method, self refers to the newly created object. In other class methods, it\n",
    "refers to the instance whose method was called. "
   ]
  },
  {
   "cell_type": "code",
   "execution_count": 15,
   "metadata": {},
   "outputs": [
    {
     "name": "stdout",
     "output_type": "stream",
     "text": [
      "MS Dhoni plays cricket\n",
      "My name is MS Dhoni and gender is Male.\n",
      "Sania Mirja plays tennis\n",
      "My name is Sania Mirja and gender is Female.\n"
     ]
    }
   ],
   "source": [
    "class Human:  # syntax : class class_name\n",
    "    \n",
    "    def __init__(self, name, gender, occupation):  # constructor for initializing these values.\n",
    "        self.name = name # these are properties/ attributes\n",
    "        self.gender = gender # or instance variable sets each time when new object is created\n",
    "        self.occupation = occupation\n",
    "    \n",
    "    def speaks(self): # these are methods\n",
    "        print(f'My name is {self.name} and gender is {self.gender}.')\n",
    "        \n",
    "    def do_work(self):\n",
    "        if self.occupation == 'play cricket':\n",
    "            print(self.name, 'plays cricket')\n",
    "        elif self.occupation == 'play tennis':\n",
    "            print(self.name, 'plays tennis')\n",
    "\n",
    "ms_dhoni = Human('MS Dhoni', 'Male', 'play cricket')\n",
    "# ms_dhoni object passed in __init__(self=ms_dhoni,'MS Dhoni','Male','play cricket') constructor, and set properties as below\n",
    "# ms_dhoni.name = 'MS Dhoni'\n",
    "# ms_dhoni.gender = 'Male'\n",
    "# ms_dhoni.occupation = 'play cricket'\n",
    "ms_dhoni.do_work()\n",
    "# calling do_works() method\n",
    "ms_dhoni.speaks()\n",
    "# calling speaks() method\n",
    "sania_mirja = Human('Sania Mirja', 'Female', 'play tennis')\n",
    "# internally it working as Human.do_work(sania_mirja)\n",
    "sania_mirja.do_work()\n",
    "sania_mirja.speaks()"
   ]
  },
  {
   "cell_type": "code",
   "execution_count": 35,
   "metadata": {},
   "outputs": [
    {
     "name": "stdout",
     "output_type": "stream",
     "text": [
      "0\n",
      "2\n"
     ]
    }
   ],
   "source": [
    "# class variable\n",
    "class Employee:\n",
    "    num_of_employees = 0\n",
    "    amount = 0.5 # class variable\n",
    "    def __init__(self, first, last, pay):\n",
    "        self.first = first\n",
    "        self.last = last\n",
    "        self.pay = pay\n",
    "        Employee.num_of_employees += 1\n",
    "        \n",
    "    def full_name(self):\n",
    "        return f'{self.first} {self.last}'\n",
    "    \n",
    "    def apply_raise(self):\n",
    "        self.pay = int(self.pay * self.amount)\n",
    "        return self.pay\n",
    "print(Employee.num_of_employees)   \n",
    "emp1 = Employee('Sumit', 'Kumar', 50000)\n",
    "emp2 = Employee('Amit', 'Kumar', 40000)\n",
    "print(Employee.num_of_employees)"
   ]
  },
  {
   "cell_type": "markdown",
   "metadata": {},
   "source": [
    "Using class variable to get number of object created and using class_name.class_variable"
   ]
  },
  {
   "cell_type": "code",
   "execution_count": 37,
   "metadata": {},
   "outputs": [
    {
     "name": "stdout",
     "output_type": "stream",
     "text": [
      "{'first': 'Sumit', 'last': 'Kumar', 'pay': 50000}\n",
      "{'__module__': '__main__', 'num_of_employees': 2, 'amount': 0.5, '__init__': <function Employee.__init__ at 0x000000000659F950>, 'full_name': <function Employee.full_name at 0x000000000659F840>, 'apply_raise': <function Employee.apply_raise at 0x00000000065889D8>, '__dict__': <attribute '__dict__' of 'Employee' objects>, '__weakref__': <attribute '__weakref__' of 'Employee' objects>, '__doc__': None}\n"
     ]
    }
   ],
   "source": [
    "print(emp1.__dict__) # for object\n",
    "print(Employee.__dict__) # for class"
   ]
  },
  {
   "cell_type": "markdown",
   "metadata": {},
   "source": [
    "emp1.__dict__, contains only values for the object. \n",
    "Employee.__dict__, contains additional info also amount = 0.5, the class variable"
   ]
  },
  {
   "cell_type": "code",
   "execution_count": 34,
   "metadata": {},
   "outputs": [
    {
     "name": "stdout",
     "output_type": "stream",
     "text": [
      "For Employee emp1: \n",
      "First name Sumit\n",
      "Last name Kumar\n",
      "Full name Sumit Kumar\n",
      "Pay 50000\n",
      "Hike in pay 25000\n",
      "\n",
      "For Employee emp2: \n",
      "First name Amit\n",
      "Last name Kumar\n",
      "Full name Amit Kumar\n",
      "Pay 40000\n",
      "Hike in pay 20000\n"
     ]
    }
   ],
   "source": [
    "# getting values\n",
    "print('For Employee emp1: ')\n",
    "print('First name', emp1.first) # properties\n",
    "print('Last name', emp1.last)\n",
    "print('Full name', emp1.full_name()) # methods\n",
    "print('Pay', emp1.pay)\n",
    "print('Hike in pay', emp1.apply_raise()) # 50000*0.5\n",
    "\n",
    "print('\\nFor Employee emp2: ')\n",
    "print('First name', emp2.first) # properties\n",
    "print('Last name', emp2.last)\n",
    "print('Full name', emp2.full_name()) # methods\n",
    "print('Pay', emp2.pay)\n",
    "print('Hike in pay', emp2.apply_raise()) # 40000*0.5"
   ]
  },
  {
   "cell_type": "markdown",
   "metadata": {},
   "source": [
    "Inheritance is a mechanism in which one class acquires the property of another class. For example, a child inherits the traits of his/her parents. With inheritance, we can reuse the fields and methods of the existing class. Hence, inheritance facilitates Reusability, Extensibility and is an important concept of OOPs."
   ]
  },
  {
   "cell_type": "code",
   "execution_count": 9,
   "metadata": {},
   "outputs": [
    {
     "name": "stdout",
     "output_type": "stream",
     "text": [
      "Father : I love gardening\n",
      "Mother : I love cooking\n",
      "Child : I love sports\n",
      "Father : I love gardening\n",
      "Mother : I love cooking\n"
     ]
    }
   ],
   "source": [
    "class Father:\n",
    "    def gardening(self):\n",
    "        print('Father : I love gardening')\n",
    "\n",
    "class Mother:\n",
    "    def cooking(self):\n",
    "        print('Mother : I love cooking')\n",
    "\n",
    "class Child(Father, Mother):\n",
    "    def sports(self):\n",
    "        print('Child : I love sports')\n",
    "\n",
    "f = Father()\n",
    "f.gardening()\n",
    "\n",
    "m = Mother()\n",
    "m.cooking()\n",
    "\n",
    "c = Child()\n",
    "c.sports()\n",
    "c.gardening() # inheriting from father\n",
    "c.cooking() # inheriting from mother"
   ]
  },
  {
   "cell_type": "code",
   "execution_count": null,
   "metadata": {},
   "outputs": [],
   "source": []
  }
 ],
 "metadata": {
  "kernelspec": {
   "display_name": "Python 3",
   "language": "python",
   "name": "python3"
  },
  "language_info": {
   "codemirror_mode": {
    "name": "ipython",
    "version": 3
   },
   "file_extension": ".py",
   "mimetype": "text/x-python",
   "name": "python",
   "nbconvert_exporter": "python",
   "pygments_lexer": "ipython3",
   "version": "3.7.1"
  }
 },
 "nbformat": 4,
 "nbformat_minor": 2
}
